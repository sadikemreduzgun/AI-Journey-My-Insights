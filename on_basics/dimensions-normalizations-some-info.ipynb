{
 "cells": [
  {
   "metadata": {},
   "cell_type": "markdown",
   "source": [
    "# NumPy / Linear Algebra Dimensional Overview\n",
    "\n",
    "* 0D → scalar\n",
    "    * A single number\n",
    "    * Shape: ()\n",
    "\n",
    "* 1D → 1D array (conceptually a vector) 🤯\n",
    "    * Sequence of numbers, no explicit row/column orientation\n",
    "    * Shape: (n,) — e.g., (5,)\n",
    "\n",
    "* 2D → matrix (rows × columns)\n",
    "    * Standard 2D array\n",
    "    * Shape: (m, n)\n",
    "\n",
    "        * (1, n) → row vector\n",
    "        * (m, 1) → column vector\n",
    "\n",
    "* 3D and higher → tensor\n",
    "\n",
    "    * Multi-dimensional array\n",
    "    * Shape: (k, l, m) or more axes\n",
    "        * Example: images (height, width, channels) or batches (batch_size, H, W, C)"
   ],
   "id": "3231b8f15ac996e3"
  },
  {
   "metadata": {
    "ExecuteTime": {
     "end_time": "2025-10-02T12:47:25.393972Z",
     "start_time": "2025-10-02T12:47:25.386757Z"
    }
   },
   "cell_type": "code",
   "source": [
    "import numpy as np\n",
    "\n",
    "zeroD = np.array(3)  # 0D array\n",
    "print('shape of 0D: ', zeroD.shape)  # ()\n",
    "\n",
    "oneD = np.array([2, 3, 4])\n",
    "print('shape of 1D: ', oneD.shape)  # (3,)\n"
   ],
   "id": "97917a5437e37194",
   "outputs": [
    {
     "name": "stdout",
     "output_type": "stream",
     "text": [
      "shape of 0D:  ()\n",
      "shape of 1D:  (3,)\n"
     ]
    }
   ],
   "execution_count": 35
  },
  {
   "metadata": {
    "ExecuteTime": {
     "end_time": "2025-10-02T12:47:28.896421Z",
     "start_time": "2025-10-02T12:47:28.886825Z"
    }
   },
   "cell_type": "code",
   "source": [
    "twoD = np.array([\n",
    "    [1, 2, 3],\n",
    "    [4, 5, 6]\n",
    "])\n",
    "print('shape of 2D: ', twoD.shape)  # (2,3)\n",
    "\n",
    "# Using simple array of 1Ds\n",
    "twoDbyoneDs = np.array([oneD, oneD, oneD])\n",
    "print('2D from 1Ds, shape:', twoDbyoneDs.shape, '\\n', twoDbyoneDs)\n",
    "\n",
    "# Using np.stack\n",
    "twoDbyoneDs_stack = np.stack([oneD, oneD, oneD], axis=0)\n",
    "print('2D from 1Ds using np.stack, shape:', twoDbyoneDs_stack.shape, '\\n', twoDbyoneDs_stack)\n",
    "\n",
    "# Using np.tile\n",
    "twoDbyoneDs_tile = np.tile(oneD, (3, 1))\n",
    "print('2D from 1Ds using np.tile, shape:', twoDbyoneDs_tile.shape, '\\n', twoDbyoneDs_tile)"
   ],
   "id": "ad92917ef9327f7a",
   "outputs": [
    {
     "name": "stdout",
     "output_type": "stream",
     "text": [
      "shape of 2D:  (2, 3)\n",
      "2D from 1Ds, shape: (3, 3) \n",
      " [[2 3 4]\n",
      " [2 3 4]\n",
      " [2 3 4]]\n",
      "2D from 1Ds using np.stack, shape: (3, 3) \n",
      " [[2 3 4]\n",
      " [2 3 4]\n",
      " [2 3 4]]\n",
      "2D from 1Ds using np.tile, shape: (3, 3) \n",
      " [[2 3 4]\n",
      " [2 3 4]\n",
      " [2 3 4]]\n"
     ]
    }
   ],
   "execution_count": 36
  },
  {
   "metadata": {
    "ExecuteTime": {
     "end_time": "2025-10-02T12:47:52.173314Z",
     "start_time": "2025-10-02T12:47:52.161299Z"
    }
   },
   "cell_type": "code",
   "source": [
    "print('---------------------')\n",
    "print('Here are tensors\\n')\n",
    "\n",
    "# Original small 3D array\n",
    "threeD = np.array([\n",
    "    [[1], [4]],  # first matrix\n",
    "    [[2], [5]]   # second matrix\n",
    "])\n",
    "print('Original 3D array, shape:', threeD.shape)\n",
    "for i, matrix in enumerate(threeD):\n",
    "    print(f\"Matrix {i}:\\n{matrix}\\n\")\n",
    "\n",
    "# 3D from 2Ds using different methods\n",
    "threeDby2Ds = np.array([twoD, twoD, twoD])\n",
    "print('3D from 2Ds using np.array, shape:', threeDby2Ds.shape)\n",
    "for i, matrix in enumerate(threeDby2Ds):\n",
    "    print(f\"Matrix {i}:\\n{matrix}\\n\")\n",
    "\n",
    "threeDby2Ds_stack = np.stack([twoD, twoD, twoD], axis=0)\n",
    "print('3D from 2Ds using np.stack, shape:', threeDby2Ds_stack.shape)\n",
    "for i, matrix in enumerate(threeDby2Ds_stack):\n",
    "    print(f\"Matrix {i}:\\n{matrix}\\n\")\n",
    "\n",
    "threeDby2Ds_tile = np.tile(twoD, (3, 1, 1))\n",
    "print('3D from 2Ds using np.tile, shape:', threeDby2Ds_tile.shape)\n",
    "for i, matrix in enumerate(threeDby2Ds_tile):\n",
    "    print(f\"Matrix {i}:\\n{matrix}\\n\")"
   ],
   "id": "af11b35f071a745e",
   "outputs": [
    {
     "name": "stdout",
     "output_type": "stream",
     "text": [
      "---------------------\n",
      "Here are tensors\n",
      "\n",
      "Original 3D array, shape: (2, 2, 1)\n",
      "Matrix 0:\n",
      "[[1]\n",
      " [4]]\n",
      "\n",
      "Matrix 1:\n",
      "[[2]\n",
      " [5]]\n",
      "\n",
      "3D from 2Ds using np.array, shape: (3, 2, 3)\n",
      "Matrix 0:\n",
      "[[1 2 3]\n",
      " [4 5 6]]\n",
      "\n",
      "Matrix 1:\n",
      "[[1 2 3]\n",
      " [4 5 6]]\n",
      "\n",
      "Matrix 2:\n",
      "[[1 2 3]\n",
      " [4 5 6]]\n",
      "\n",
      "3D from 2Ds using np.stack, shape: (3, 2, 3)\n",
      "Matrix 0:\n",
      "[[1 2 3]\n",
      " [4 5 6]]\n",
      "\n",
      "Matrix 1:\n",
      "[[1 2 3]\n",
      " [4 5 6]]\n",
      "\n",
      "Matrix 2:\n",
      "[[1 2 3]\n",
      " [4 5 6]]\n",
      "\n",
      "3D from 2Ds using np.tile, shape: (3, 2, 3)\n",
      "Matrix 0:\n",
      "[[1 2 3]\n",
      " [4 5 6]]\n",
      "\n",
      "Matrix 1:\n",
      "[[1 2 3]\n",
      " [4 5 6]]\n",
      "\n",
      "Matrix 2:\n",
      "[[1 2 3]\n",
      " [4 5 6]]\n",
      "\n"
     ]
    }
   ],
   "execution_count": 38
  },
  {
   "metadata": {
    "ExecuteTime": {
     "end_time": "2025-10-02T12:48:02.979190Z",
     "start_time": "2025-10-02T12:48:02.972676Z"
    }
   },
   "cell_type": "code",
   "source": [
    "# ---------------------\n",
    "# 4D tensor: stack multiple 3D tensors along a new axis\n",
    "fourD = np.array([threeDby2Ds, threeDby2Ds, threeDby2Ds])  # shape (3, 3, 2, 3)\n",
    "print('4D tensor from 3D tensors using np.array, shape:', fourD.shape)\n",
    "\n",
    "# Print clearly: iterate over first two axes\n",
    "for i, tensor3D in enumerate(fourD):\n",
    "    print(f\"\\n3D block {i} (shape {tensor3D.shape}):\")\n",
    "    for j, matrix in enumerate(tensor3D):\n",
    "        print(f\"  Matrix {j}:\\n{matrix}\")"
   ],
   "id": "3b37f57a625e8d6f",
   "outputs": [
    {
     "name": "stdout",
     "output_type": "stream",
     "text": [
      "4D tensor from 3D tensors using np.array, shape: (3, 3, 2, 3)\n",
      "\n",
      "3D block 0 (shape (3, 2, 3)):\n",
      "  Matrix 0:\n",
      "[[1 2 3]\n",
      " [4 5 6]]\n",
      "  Matrix 1:\n",
      "[[1 2 3]\n",
      " [4 5 6]]\n",
      "  Matrix 2:\n",
      "[[1 2 3]\n",
      " [4 5 6]]\n",
      "\n",
      "3D block 1 (shape (3, 2, 3)):\n",
      "  Matrix 0:\n",
      "[[1 2 3]\n",
      " [4 5 6]]\n",
      "  Matrix 1:\n",
      "[[1 2 3]\n",
      " [4 5 6]]\n",
      "  Matrix 2:\n",
      "[[1 2 3]\n",
      " [4 5 6]]\n",
      "\n",
      "3D block 2 (shape (3, 2, 3)):\n",
      "  Matrix 0:\n",
      "[[1 2 3]\n",
      " [4 5 6]]\n",
      "  Matrix 1:\n",
      "[[1 2 3]\n",
      " [4 5 6]]\n",
      "  Matrix 2:\n",
      "[[1 2 3]\n",
      " [4 5 6]]\n"
     ]
    }
   ],
   "execution_count": 39
  },
  {
   "metadata": {},
   "cell_type": "markdown",
   "source": [
    "# Normalization is Ez\n",
    "## MinMaxScaler\n",
    "### x′=max(x)−min(x)/x−min(x) is how minmax scaler works\n",
    "\n",
    "### In NumPy, if you pass -1 as one of the dimensions, it means:\n",
    "### “figure this dimension out automatically, so that the total number of elements stays the same.”\n"
   ],
   "id": "bc0322f8a55f3d5d"
  },
  {
   "metadata": {
    "ExecuteTime": {
     "end_time": "2025-10-02T11:36:29.753664Z",
     "start_time": "2025-10-02T11:36:28.969830Z"
    }
   },
   "cell_type": "code",
   "source": [
    "from sklearn.preprocessing import MinMaxScaler\n",
    "\n",
    "# Example numpy array\n",
    "arr = np.array([[1, 2, 3],\n",
    "                [4, 5, 6],\n",
    "                [7, 8, 9]], dtype=float)\n",
    "\n",
    "# Initialize MinM   axScaler to scale values into [0, 1]\n",
    "scaler = MinMaxScaler()\n",
    "\n",
    "# Fit and transform the array\n",
    "scaled_arr = scaler.fit_transform(arr)\n",
    "\n",
    "print(\"Original array:\\n\", arr)\n",
    "print(\"\\nScaled array:\\n\", scaled_arr)"
   ],
   "id": "58873fc11a792930",
   "outputs": [
    {
     "name": "stdout",
     "output_type": "stream",
     "text": [
      "Original array:\n",
      " [[1. 2. 3.]\n",
      " [4. 5. 6.]\n",
      " [7. 8. 9.]]\n",
      "\n",
      "Scaled array:\n",
      " [[0.  0.  0. ]\n",
      " [0.5 0.5 0.5]\n",
      " [1.  1.  1. ]]\n"
     ]
    }
   ],
   "execution_count": 1
  },
  {
   "metadata": {},
   "cell_type": "markdown",
   "source": "### As it may seem, MinMaxScaler works columnwise",
   "id": "728298c41919b4db"
  },
  {
   "metadata": {},
   "cell_type": "markdown",
   "source": [
    "### arr.reshape(1, -1) results in a row vector\n",
    "### arr_aranaged.reshape(-1, 1) results in a column vector, so this one is used to make a 1D array scaled and then to be used"
   ],
   "id": "b2cda5bf0b9bad8a"
  },
  {
   "metadata": {
    "ExecuteTime": {
     "end_time": "2025-10-02T11:47:31.607711Z",
     "start_time": "2025-10-02T11:47:31.601936Z"
    }
   },
   "cell_type": "code",
   "source": [
    "arr_aranaged = np.arange(100)  # this is not in space\n",
    "print(arr_aranaged.reshape(1, -1))  # see a row"
   ],
   "id": "7cc6644d20dbeaaf",
   "outputs": [
    {
     "name": "stdout",
     "output_type": "stream",
     "text": [
      "[[ 0  1  2  3  4  5  6  7  8  9 10 11 12 13 14 15 16 17 18 19 20 21 22 23\n",
      "  24 25 26 27 28 29 30 31 32 33 34 35 36 37 38 39 40 41 42 43 44 45 46 47\n",
      "  48 49 50 51 52 53 54 55 56 57 58 59 60 61 62 63 64 65 66 67 68 69 70 71\n",
      "  72 73 74 75 76 77 78 79 80 81 82 83 84 85 86 87 88 89 90 91 92 93 94 95\n",
      "  96 97 98 99]]\n"
     ]
    }
   ],
   "execution_count": 8
  },
  {
   "metadata": {
    "ExecuteTime": {
     "end_time": "2025-10-02T11:48:32.395681Z",
     "start_time": "2025-10-02T11:48:32.389814Z"
    }
   },
   "cell_type": "code",
   "source": [
    "arr_aranaged_reshaped = arr_aranaged.reshape(1, -1)  # same row\n",
    "arr_aranaged_scaled = scaler.fit_transform(arr_aranaged_reshaped)\n",
    "arr_aranaged_scaled  # x′=max(x)−min(x)/x−min(x), indeed here when calculated it results in 0/0 because max(x)=min(x)=x and thereby x-x/x-x but scikit-learn handles it and gives 0"
   ],
   "id": "46797df3f192d775",
   "outputs": [
    {
     "data": {
      "text/plain": [
       "array([[0., 0., 0., 0., 0., 0., 0., 0., 0., 0., 0., 0., 0., 0., 0., 0.,\n",
       "        0., 0., 0., 0., 0., 0., 0., 0., 0., 0., 0., 0., 0., 0., 0., 0.,\n",
       "        0., 0., 0., 0., 0., 0., 0., 0., 0., 0., 0., 0., 0., 0., 0., 0.,\n",
       "        0., 0., 0., 0., 0., 0., 0., 0., 0., 0., 0., 0., 0., 0., 0., 0.,\n",
       "        0., 0., 0., 0., 0., 0., 0., 0., 0., 0., 0., 0., 0., 0., 0., 0.,\n",
       "        0., 0., 0., 0., 0., 0., 0., 0., 0., 0., 0., 0., 0., 0., 0., 0.,\n",
       "        0., 0., 0., 0.]])"
      ]
     },
     "execution_count": 11,
     "metadata": {},
     "output_type": "execute_result"
    }
   ],
   "execution_count": 11
  },
  {
   "metadata": {
    "ExecuteTime": {
     "end_time": "2025-10-02T12:00:13.298938Z",
     "start_time": "2025-10-02T12:00:13.292970Z"
    }
   },
   "cell_type": "code",
   "source": [
    "arr_aranaged = np.arange(100)\n",
    "print(arr_aranaged.reshape(-1, 1))  # see a column now"
   ],
   "id": "3369a9755f09a2b5",
   "outputs": [
    {
     "name": "stdout",
     "output_type": "stream",
     "text": [
      "[[ 0]\n",
      " [ 1]\n",
      " [ 2]\n",
      " [ 3]\n",
      " [ 4]\n",
      " [ 5]\n",
      " [ 6]\n",
      " [ 7]\n",
      " [ 8]\n",
      " [ 9]\n",
      " [10]\n",
      " [11]\n",
      " [12]\n",
      " [13]\n",
      " [14]\n",
      " [15]\n",
      " [16]\n",
      " [17]\n",
      " [18]\n",
      " [19]\n",
      " [20]\n",
      " [21]\n",
      " [22]\n",
      " [23]\n",
      " [24]\n",
      " [25]\n",
      " [26]\n",
      " [27]\n",
      " [28]\n",
      " [29]\n",
      " [30]\n",
      " [31]\n",
      " [32]\n",
      " [33]\n",
      " [34]\n",
      " [35]\n",
      " [36]\n",
      " [37]\n",
      " [38]\n",
      " [39]\n",
      " [40]\n",
      " [41]\n",
      " [42]\n",
      " [43]\n",
      " [44]\n",
      " [45]\n",
      " [46]\n",
      " [47]\n",
      " [48]\n",
      " [49]\n",
      " [50]\n",
      " [51]\n",
      " [52]\n",
      " [53]\n",
      " [54]\n",
      " [55]\n",
      " [56]\n",
      " [57]\n",
      " [58]\n",
      " [59]\n",
      " [60]\n",
      " [61]\n",
      " [62]\n",
      " [63]\n",
      " [64]\n",
      " [65]\n",
      " [66]\n",
      " [67]\n",
      " [68]\n",
      " [69]\n",
      " [70]\n",
      " [71]\n",
      " [72]\n",
      " [73]\n",
      " [74]\n",
      " [75]\n",
      " [76]\n",
      " [77]\n",
      " [78]\n",
      " [79]\n",
      " [80]\n",
      " [81]\n",
      " [82]\n",
      " [83]\n",
      " [84]\n",
      " [85]\n",
      " [86]\n",
      " [87]\n",
      " [88]\n",
      " [89]\n",
      " [90]\n",
      " [91]\n",
      " [92]\n",
      " [93]\n",
      " [94]\n",
      " [95]\n",
      " [96]\n",
      " [97]\n",
      " [98]\n",
      " [99]]\n"
     ]
    }
   ],
   "execution_count": 16
  },
  {
   "metadata": {
    "ExecuteTime": {
     "end_time": "2025-10-02T13:09:36.469828Z",
     "start_time": "2025-10-02T13:09:36.454111Z"
    }
   },
   "cell_type": "code",
   "source": [
    "arr_aranaged_reshaped = arr_aranaged.reshape(-1, 1)  # the column\n",
    "arr_aranaged_scaled = scaler.fit_transform(arr_aranaged_reshaped)\n",
    "print('100 scaled values, shape: ', arr_aranaged_scaled.shape, '\\n', 'so a column vector again')\n",
    "arr_aranaged_scaled  # x′=max(x)−min(x)/x−min(x), indeed here when calculated it results in 0/0 because max(x)=min(x)=x and thereby x-x/x-x but scikit-learn handles it and gives 0"
   ],
   "id": "7fb55e3aec3a6064",
   "outputs": [
    {
     "name": "stdout",
     "output_type": "stream",
     "text": [
      "100 scaled values, shape:  (100, 1) \n",
      " so a column vector again\n"
     ]
    },
    {
     "data": {
      "text/plain": [
       "array([[0.        ],\n",
       "       [0.01010101],\n",
       "       [0.02020202],\n",
       "       [0.03030303],\n",
       "       [0.04040404],\n",
       "       [0.05050505],\n",
       "       [0.06060606],\n",
       "       [0.07070707],\n",
       "       [0.08080808],\n",
       "       [0.09090909],\n",
       "       [0.1010101 ],\n",
       "       [0.11111111],\n",
       "       [0.12121212],\n",
       "       [0.13131313],\n",
       "       [0.14141414],\n",
       "       [0.15151515],\n",
       "       [0.16161616],\n",
       "       [0.17171717],\n",
       "       [0.18181818],\n",
       "       [0.19191919],\n",
       "       [0.2020202 ],\n",
       "       [0.21212121],\n",
       "       [0.22222222],\n",
       "       [0.23232323],\n",
       "       [0.24242424],\n",
       "       [0.25252525],\n",
       "       [0.26262626],\n",
       "       [0.27272727],\n",
       "       [0.28282828],\n",
       "       [0.29292929],\n",
       "       [0.3030303 ],\n",
       "       [0.31313131],\n",
       "       [0.32323232],\n",
       "       [0.33333333],\n",
       "       [0.34343434],\n",
       "       [0.35353535],\n",
       "       [0.36363636],\n",
       "       [0.37373737],\n",
       "       [0.38383838],\n",
       "       [0.39393939],\n",
       "       [0.4040404 ],\n",
       "       [0.41414141],\n",
       "       [0.42424242],\n",
       "       [0.43434343],\n",
       "       [0.44444444],\n",
       "       [0.45454545],\n",
       "       [0.46464646],\n",
       "       [0.47474747],\n",
       "       [0.48484848],\n",
       "       [0.49494949],\n",
       "       [0.50505051],\n",
       "       [0.51515152],\n",
       "       [0.52525253],\n",
       "       [0.53535354],\n",
       "       [0.54545455],\n",
       "       [0.55555556],\n",
       "       [0.56565657],\n",
       "       [0.57575758],\n",
       "       [0.58585859],\n",
       "       [0.5959596 ],\n",
       "       [0.60606061],\n",
       "       [0.61616162],\n",
       "       [0.62626263],\n",
       "       [0.63636364],\n",
       "       [0.64646465],\n",
       "       [0.65656566],\n",
       "       [0.66666667],\n",
       "       [0.67676768],\n",
       "       [0.68686869],\n",
       "       [0.6969697 ],\n",
       "       [0.70707071],\n",
       "       [0.71717172],\n",
       "       [0.72727273],\n",
       "       [0.73737374],\n",
       "       [0.74747475],\n",
       "       [0.75757576],\n",
       "       [0.76767677],\n",
       "       [0.77777778],\n",
       "       [0.78787879],\n",
       "       [0.7979798 ],\n",
       "       [0.80808081],\n",
       "       [0.81818182],\n",
       "       [0.82828283],\n",
       "       [0.83838384],\n",
       "       [0.84848485],\n",
       "       [0.85858586],\n",
       "       [0.86868687],\n",
       "       [0.87878788],\n",
       "       [0.88888889],\n",
       "       [0.8989899 ],\n",
       "       [0.90909091],\n",
       "       [0.91919192],\n",
       "       [0.92929293],\n",
       "       [0.93939394],\n",
       "       [0.94949495],\n",
       "       [0.95959596],\n",
       "       [0.96969697],\n",
       "       [0.97979798],\n",
       "       [0.98989899],\n",
       "       [1.        ]])"
      ]
     },
     "execution_count": 42,
     "metadata": {},
     "output_type": "execute_result"
    }
   ],
   "execution_count": 42
  },
  {
   "metadata": {
    "ExecuteTime": {
     "end_time": "2025-10-02T13:14:12.131623Z",
     "start_time": "2025-10-02T13:14:12.126326Z"
    }
   },
   "cell_type": "code",
   "source": "",
   "id": "3befd0c47c9c8ba0",
   "outputs": [
    {
     "data": {
      "text/plain": [
       "array([[2, 3, 4],\n",
       "       [2, 3, 4],\n",
       "       [2, 3, 4]])"
      ]
     },
     "execution_count": 45,
     "metadata": {},
     "output_type": "execute_result"
    }
   ],
   "execution_count": 45
  },
  {
   "metadata": {
    "ExecuteTime": {
     "end_time": "2025-10-02T13:15:27.669434Z",
     "start_time": "2025-10-02T13:15:27.665414Z"
    }
   },
   "cell_type": "code",
   "source": "as_array_test = np.asarray(twoDbyoneDs)",
   "id": "c664f9b7b846cca0",
   "outputs": [],
   "execution_count": 47
  },
  {
   "metadata": {
    "ExecuteTime": {
     "end_time": "2025-10-02T13:15:57.476434Z",
     "start_time": "2025-10-02T13:15:57.470331Z"
    }
   },
   "cell_type": "code",
   "source": "as_array_test.min(axis=0)",
   "id": "716c19a5b14dd50f",
   "outputs": [
    {
     "data": {
      "text/plain": [
       "array([2, 3, 4])"
      ]
     },
     "execution_count": 49,
     "metadata": {},
     "output_type": "execute_result"
    }
   ],
   "execution_count": 49
  },
  {
   "metadata": {
    "ExecuteTime": {
     "end_time": "2025-10-02T13:12:20.446781Z",
     "start_time": "2025-10-02T13:12:20.434999Z"
    }
   },
   "cell_type": "code",
   "source": [
    "import numpy as np\n",
    "\n",
    "class MyMinMaxScaler:\n",
    "    def __init__(self, feature_range=(0, 1)):\n",
    "        self.feature_range = feature_range\n",
    "        self.data_min_ = None\n",
    "        self.data_max_ = None\n",
    "        self.scale_ = None\n",
    "        self.min_ = None\n",
    "\n",
    "    def fit(self, X: np.ndarray):\n",
    "        \"\"\"\n",
    "        Learn min and max for each column\n",
    "        \"\"\"\n",
    "        X = np.asarray(X, dtype=float)\n",
    "        self.data_min_ = X.min(axis=0)\n",
    "        self.data_max_ = X.max(axis=0)\n",
    "        data_range = self.data_max_ - self.data_min_\n",
    "\n",
    "        # Handle columns where max = min\n",
    "        data_range[data_range == 0] = 1\n",
    "\n",
    "        self.scale_ = (self.feature_range[1] - self.feature_range[0]) / data_range\n",
    "        self.min_ = self.feature_range[0] - self.data_min_ * self.scale_\n",
    "        return self\n",
    "\n",
    "    def transform(self, X: np.ndarray):\n",
    "        \"\"\"\n",
    "        Scale X using learned min and max\n",
    "        \"\"\"\n",
    "        X = np.asarray(X, dtype=float)\n",
    "        return X * self.scale_ + self.min_\n",
    "\n",
    "    def fit_transform(self, X: np.ndarray):\n",
    "        self.fit(X)\n",
    "        return self.transform(X)\n",
    "\n",
    "    def inverse_transform(self, X_scaled: np.ndarray):\n",
    "        \"\"\"\n",
    "        Convert scaled values back to original\n",
    "        \"\"\"\n",
    "        X_scaled = np.asarray(X_scaled, dtype=float)\n",
    "        return (X_scaled - self.min_) / self.scale_\n",
    "\n",
    "\n",
    "# ===== Example =====\n",
    "X = np.array([\n",
    "    [1, 200, 3],\n",
    "    [4, 200, 6],\n",
    "    [7, 200, 9]\n",
    "])\n",
    "\n",
    "scaler = MyMinMaxScaler()\n",
    "X_scaled = scaler.fit_transform(X)\n",
    "print(\"Scaled:\\n\", X_scaled)\n",
    "\n",
    "# inverse_transform\n",
    "X_inv = scaler.inverse_transform(X_scaled)\n",
    "print(\"\\nInverse transformed:\\n\", X_inv)"
   ],
   "id": "dc10f94353b606b7",
   "outputs": [
    {
     "name": "stdout",
     "output_type": "stream",
     "text": [
      "Scaled:\n",
      " [[0.  0.  0. ]\n",
      " [0.5 0.  0.5]\n",
      " [1.  0.  1. ]]\n",
      "\n",
      "Inverse transformed:\n",
      " [[  1. 200.   3.]\n",
      " [  4. 200.   6.]\n",
      " [  7. 200.   9.]]\n"
     ]
    }
   ],
   "execution_count": 44
  },
  {
   "metadata": {
    "ExecuteTime": {
     "end_time": "2025-10-02T13:37:31.343919Z",
     "start_time": "2025-10-02T13:37:31.327813Z"
    }
   },
   "cell_type": "code",
   "source": [
    "scaler = MinMaxScaler()\n",
    "X_scaled = scaler.fit_transform(X)\n",
    "print(\"Scaled:\\n\", X_scaled)\n",
    "\n",
    "# inverse_transform\n",
    "X_inv = scaler.inverse_transform(X_scaled)\n",
    "print(\"\\nInverse transformed:\\n\", X_inv)"
   ],
   "id": "8197a96f5f0c75d1",
   "outputs": [
    {
     "name": "stdout",
     "output_type": "stream",
     "text": [
      "Scaled:\n",
      " [[0.  0.  0. ]\n",
      " [0.5 0.  0.5]\n",
      " [1.  0.  1. ]]\n",
      "\n",
      "Inverse transformed:\n",
      " [[  1. 200.   3.]\n",
      " [  4. 200.   6.]\n",
      " [  7. 200.   9.]]\n"
     ]
    }
   ],
   "execution_count": 50
  },
  {
   "metadata": {},
   "cell_type": "markdown",
   "source": [
    "# StandartScaler xi'=xi−μ/σ\n",
    "\n",
    "* xi → original value\n",
    "* μ → mean of the feature/column\n",
    "* σ → standard deviation of the feature/column\n",
    "* xi' → standardized value\n",
    "\n",
    "After standardization:\n",
    "* Mean of the feature becomes 0\n",
    "* Standard deviation becomes 1\n",
    "\n",
    "Handles each feature independently (column-wise)\n",
    "If σ=0 (constant column), you typically return 0 to avoid division by zero."
   ],
   "id": "b1b5492efbb576e"
  },
  {
   "metadata": {
    "ExecuteTime": {
     "end_time": "2025-10-02T13:40:31.002344Z",
     "start_time": "2025-10-02T13:40:30.992861Z"
    }
   },
   "cell_type": "code",
   "source": [
    "from sklearn.preprocessing import StandardScaler\n",
    "\n",
    "scaler = StandardScaler()\n",
    "X_scaled = scaler.fit_transform(X)\n",
    "print(\"Scaled:\\n\", X_scaled)\n",
    "\n",
    "# inverse_transform\n",
    "X_inv = scaler.inverse_transform(X_scaled)\n",
    "print(\"\\nInverse transformed:\\n\", X_inv)"
   ],
   "id": "a7b9af1c93b99723",
   "outputs": [
    {
     "name": "stdout",
     "output_type": "stream",
     "text": [
      "Scaled:\n",
      " [[-1.22474487  0.         -1.22474487]\n",
      " [ 0.          0.          0.        ]\n",
      " [ 1.22474487  0.          1.22474487]]\n",
      "\n",
      "Inverse transformed:\n",
      " [[  1. 200.   3.]\n",
      " [  4. 200.   6.]\n",
      " [  7. 200.   9.]]\n"
     ]
    }
   ],
   "execution_count": 51
  },
  {
   "metadata": {
    "ExecuteTime": {
     "end_time": "2025-10-02T13:41:17.229995Z",
     "start_time": "2025-10-02T13:41:17.224910Z"
    }
   },
   "cell_type": "code",
   "source": [
    "class MyStandardScaler:\n",
    "    def fit(self, X):\n",
    "        X = np.asarray(X, dtype=float)\n",
    "        self.mean_ = X.mean(axis=0)\n",
    "        self.std_ = X.std(axis=0)\n",
    "        self.std_[self.std_ == 0] = 1  # handle constant columns\n",
    "        return self\n",
    "\n",
    "    def transform(self, X):\n",
    "        X = np.asarray(X, dtype=float)\n",
    "        return (X - self.mean_) / self.std_\n",
    "\n",
    "    def fit_transform(self, X):\n",
    "        return self.fit(X).transform(X)\n",
    "\n",
    "    def inverse_transform(self, X_scaled):\n",
    "        X_scaled = np.asarray(X_scaled, dtype=float)\n",
    "        return X_scaled * self.std_ + self.mean_\n",
    "\n",
    "\n",
    "scaler = MyStandardScaler()\n",
    "X_scaled = scaler.fit_transform(X)\n",
    "print(\"Standardized:\\n\", X_scaled)\n",
    "\n",
    "X_inv = scaler.inverse_transform(X_scaled)\n",
    "print(\"\\nInverse transformed:\\n\", X_inv)"
   ],
   "id": "75b70990ba532fd6",
   "outputs": [
    {
     "name": "stdout",
     "output_type": "stream",
     "text": [
      "Standardized:\n",
      " [[-1.22474487  0.         -1.22474487]\n",
      " [ 0.          0.          0.        ]\n",
      " [ 1.22474487  0.          1.22474487]]\n",
      "\n",
      "Inverse transformed:\n",
      " [[  1. 200.   3.]\n",
      " [  4. 200.   6.]\n",
      " [  7. 200.   9.]]\n"
     ]
    }
   ],
   "execution_count": 52
  },
  {
   "metadata": {},
   "cell_type": "code",
   "outputs": [],
   "execution_count": null,
   "source": "",
   "id": "69070ce9122922b0"
  }
 ],
 "metadata": {
  "kernelspec": {
   "display_name": "Python 3",
   "language": "python",
   "name": "python3"
  },
  "language_info": {
   "codemirror_mode": {
    "name": "ipython",
    "version": 2
   },
   "file_extension": ".py",
   "mimetype": "text/x-python",
   "name": "python",
   "nbconvert_exporter": "python",
   "pygments_lexer": "ipython2",
   "version": "2.7.6"
  }
 },
 "nbformat": 4,
 "nbformat_minor": 5
}
