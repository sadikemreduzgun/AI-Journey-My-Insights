{
  "nbformat": 4,
  "nbformat_minor": 0,
  "metadata": {
    "colab": {
      "provenance": []
    },
    "kernelspec": {
      "name": "python3",
      "display_name": "Python 3"
    },
    "language_info": {
      "name": "python"
    }
  },
  "cells": [
    {
      "cell_type": "markdown",
      "source": [
        "# First of all let's start with custom layers"
      ],
      "metadata": {
        "id": "QHcao3BsRKsH"
      }
    },
    {
      "cell_type": "markdown",
      "source": [
        "# Ready ?\n",
        "![dis.webp](data:image/webp;base64,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)"
      ],
      "metadata": {
        "id": "5Nbjj3yQn_dG"
      }
    },
    {
      "cell_type": "markdown",
      "source": [
        "# not transformers yet. First let's have some insights on building custom layers."
      ],
      "metadata": {
        "id": "7mb7KFzDoM5i"
      }
    },
    {
      "cell_type": "code",
      "source": [
        "import tensorflow as tf\n",
        "from tensorflow.keras.layers import Layer\n",
        "from tensorflow.keras.models import Sequential"
      ],
      "metadata": {
        "id": "cX4UAkBqRrxY"
      },
      "execution_count": null,
      "outputs": []
    },
    {
      "cell_type": "markdown",
      "source": [
        " <pre> tf.Module <br>\n",
        "    <pre> └── tf.keras.layers.Layer   (base class for all layers) <br>\n",
        "      <pre>   └── tf.keras.layers.Dense   (a specific type of Layer)"
      ],
      "metadata": {
        "id": "jYqohOk4TQt6"
      }
    },
    {
      "cell_type": "code",
      "source": [
        "# for example subclassing a dense layer and create a custom dense layer\n",
        "# Dense is a subclass of Layer class\n",
        "class CustomDenseLayer(tf.keras.layers.Dense):\n",
        "    def __init__(self, units=32, **kwargs):\n",
        "        super().__init__(units=units, **kwargs)\n",
        "        print(\"Units from parent Dense:\", self.units)\n",
        "\n",
        "custom_dense = CustomDenseLayer(12)"
      ],
      "metadata": {
        "colab": {
          "base_uri": "https://localhost:8080/"
        },
        "id": "6SSHCYoaSZO8",
        "outputId": "1bac8489-ed19-4b6e-de96-79cd6bb3e823"
      },
      "execution_count": null,
      "outputs": [
        {
          "output_type": "stream",
          "name": "stdout",
          "text": [
            "Units from parent Dense: 12\n"
          ]
        }
      ]
    },
    {
      "cell_type": "markdown",
      "source": [
        "# lets see activations"
      ],
      "metadata": {
        "id": "aSJRzg8wS6BU"
      }
    },
    {
      "cell_type": "code",
      "source": [
        "tf.keras.activations.get('relu')"
      ],
      "metadata": {
        "colab": {
          "base_uri": "https://localhost:8080/",
          "height": 187
        },
        "id": "I0oQj4vTS2nI",
        "outputId": "5e8c56c3-d63c-4554-cbc9-73a6567a156e"
      },
      "execution_count": null,
      "outputs": [
        {
          "output_type": "execute_result",
          "data": {
            "text/plain": [
              "<function keras.src.activations.activations.relu(x, negative_slope=0.0, max_value=None, threshold=0.0)>"
            ],
            "text/html": [
              "<div style=\"max-width:800px; border: 1px solid var(--colab-border-color);\"><style>\n",
              "      pre.function-repr-contents {\n",
              "        overflow-x: auto;\n",
              "        padding: 8px 12px;\n",
              "        max-height: 500px;\n",
              "      }\n",
              "\n",
              "      pre.function-repr-contents.function-repr-contents-collapsed {\n",
              "        cursor: pointer;\n",
              "        max-height: 100px;\n",
              "      }\n",
              "    </style>\n",
              "    <pre style=\"white-space: initial; background:\n",
              "         var(--colab-secondary-surface-color); padding: 8px 12px;\n",
              "         border-bottom: 1px solid var(--colab-border-color);\"><b>keras.src.activations.activations.relu</b><br/>def relu(x, negative_slope=0.0, max_value=None, threshold=0.0)</pre><pre class=\"function-repr-contents function-repr-contents-collapsed\" style=\"\"><a class=\"filepath\" style=\"display:none\" href=\"#\">/usr/local/lib/python3.12/dist-packages/keras/src/activations/activations.py</a>Applies the rectified linear unit activation function.\n",
              "\n",
              "With default values, this returns the standard ReLU activation:\n",
              "`max(x, 0)`, the element-wise maximum of 0 and the input tensor.\n",
              "\n",
              "Modifying default parameters allows you to use non-zero thresholds,\n",
              "change the max value of the activation,\n",
              "and to use a non-zero multiple of the input for values below the threshold.\n",
              "\n",
              "Examples:\n",
              "\n",
              "&gt;&gt;&gt; x = [-10, -5, 0.0, 5, 10]\n",
              "&gt;&gt;&gt; keras.activations.relu(x)\n",
              "[ 0.,  0.,  0.,  5., 10.]\n",
              "&gt;&gt;&gt; keras.activations.relu(x, negative_slope=0.5)\n",
              "[-5. , -2.5,  0. ,  5. , 10. ]\n",
              "&gt;&gt;&gt; keras.activations.relu(x, max_value=5.)\n",
              "[0., 0., 0., 5., 5.]\n",
              "&gt;&gt;&gt; keras.activations.relu(x, threshold=5.)\n",
              "[-0., -0.,  0.,  0., 10.]\n",
              "\n",
              "Args:\n",
              "    x: Input tensor.\n",
              "    negative_slope: A `float` that controls the slope\n",
              "        for values lower than the threshold.\n",
              "    max_value: A `float` that sets the saturation threshold (the largest\n",
              "        value the function will return).\n",
              "    threshold: A `float` giving the threshold value of the activation\n",
              "        function below which values will be damped or set to zero.\n",
              "\n",
              "Returns:\n",
              "    A tensor with the same shape and dtype as input `x`.</pre>\n",
              "      <script>\n",
              "      if (google.colab.kernel.accessAllowed && google.colab.files && google.colab.files.view) {\n",
              "        for (const element of document.querySelectorAll('.filepath')) {\n",
              "          element.style.display = 'block'\n",
              "          element.onclick = (event) => {\n",
              "            event.preventDefault();\n",
              "            event.stopPropagation();\n",
              "            google.colab.files.view(element.textContent, 6);\n",
              "          };\n",
              "        }\n",
              "      }\n",
              "      for (const element of document.querySelectorAll('.function-repr-contents')) {\n",
              "        element.onclick = (event) => {\n",
              "          event.preventDefault();\n",
              "          event.stopPropagation();\n",
              "          element.classList.toggle('function-repr-contents-collapsed');\n",
              "        };\n",
              "      }\n",
              "      </script>\n",
              "      </div>"
            ]
          },
          "metadata": {},
          "execution_count": 14
        }
      ]
    },
    {
      "cell_type": "code",
      "source": [
        "tf.keras.activations.get('softmax')"
      ],
      "metadata": {
        "colab": {
          "base_uri": "https://localhost:8080/",
          "height": 187
        },
        "id": "QLoErZLeS_9h",
        "outputId": "9010d20c-e095-4b65-d577-77f07e249029"
      },
      "execution_count": null,
      "outputs": [
        {
          "output_type": "execute_result",
          "data": {
            "text/plain": [
              "<function keras.src.activations.activations.softmax(x, axis=-1)>"
            ],
            "text/html": [
              "<div style=\"max-width:800px; border: 1px solid var(--colab-border-color);\"><style>\n",
              "      pre.function-repr-contents {\n",
              "        overflow-x: auto;\n",
              "        padding: 8px 12px;\n",
              "        max-height: 500px;\n",
              "      }\n",
              "\n",
              "      pre.function-repr-contents.function-repr-contents-collapsed {\n",
              "        cursor: pointer;\n",
              "        max-height: 100px;\n",
              "      }\n",
              "    </style>\n",
              "    <pre style=\"white-space: initial; background:\n",
              "         var(--colab-secondary-surface-color); padding: 8px 12px;\n",
              "         border-bottom: 1px solid var(--colab-border-color);\"><b>keras.src.activations.activations.softmax</b><br/>def softmax(x, axis=-1)</pre><pre class=\"function-repr-contents function-repr-contents-collapsed\" style=\"\"><a class=\"filepath\" style=\"display:none\" href=\"#\">/usr/local/lib/python3.12/dist-packages/keras/src/activations/activations.py</a>Softmax converts a vector of values to a probability distribution.\n",
              "\n",
              "The elements of the output vector are in range `[0, 1]` and sum to 1.\n",
              "\n",
              "Each input vector is handled independently.\n",
              "The `axis` argument sets which axis of the input the function\n",
              "is applied along.\n",
              "\n",
              "Softmax is often used as the activation for the last\n",
              "layer of a classification network because the result could be interpreted as\n",
              "a probability distribution.\n",
              "\n",
              "The softmax of each vector x is computed as\n",
              "`exp(x) / sum(exp(x))`.\n",
              "\n",
              "The input values in are the log-odds of the resulting probability.\n",
              "\n",
              "Args:\n",
              "    x: Input tensor.\n",
              "    axis: Integer, axis along which the softmax is applied.</pre>\n",
              "      <script>\n",
              "      if (google.colab.kernel.accessAllowed && google.colab.files && google.colab.files.view) {\n",
              "        for (const element of document.querySelectorAll('.filepath')) {\n",
              "          element.style.display = 'block'\n",
              "          element.onclick = (event) => {\n",
              "            event.preventDefault();\n",
              "            event.stopPropagation();\n",
              "            google.colab.files.view(element.textContent, 137);\n",
              "          };\n",
              "        }\n",
              "      }\n",
              "      for (const element of document.querySelectorAll('.function-repr-contents')) {\n",
              "        element.onclick = (event) => {\n",
              "          event.preventDefault();\n",
              "          event.stopPropagation();\n",
              "          element.classList.toggle('function-repr-contents-collapsed');\n",
              "        };\n",
              "      }\n",
              "      </script>\n",
              "      </div>"
            ]
          },
          "metadata": {},
          "execution_count": 15
        }
      ]
    },
    {
      "cell_type": "markdown",
      "source": [
        "# Let's build a Dense layer using Layer"
      ],
      "metadata": {
        "id": "6adzznzCTmiU"
      }
    },
    {
      "cell_type": "code",
      "execution_count": null,
      "metadata": {
        "id": "LFBSnXeOPb7u"
      },
      "outputs": [],
      "source": [
        "class CustomDenseLayer(Layer):\n",
        "    def __init__(self, units=32):\n",
        "        super(CustomDenseLayer, self).__init__()\n",
        "        self.units = units\n",
        "\n",
        "    def build(self, input_shape):\n",
        "        self.w = self.add_weight(shape=(input_shape[-1], self.units), # weights\n",
        "                                 initializer='random_normal',\n",
        "                                 trainable=True)\n",
        "        self.b = self.add_weight(shape=(self.units,), # biases\n",
        "                                 initializer='zeros',\n",
        "                                 trainable=True)\n",
        "\n",
        "    def call(self, inputs):  # matmul is matrix multiplication\n",
        "        return tf.nn.relu(tf.matmul(inputs, self.w) + self.b)  # activation function is hardcoded as ReLU"
      ]
    },
    {
      "cell_type": "code",
      "source": [
        "import tensorflow as tf\n",
        "\n",
        "A = tf.constant([[1, 2],\n",
        "                 [3, 4]])  # shape (2, 2)\n",
        "\n",
        "B = tf.constant([[5, 6],\n",
        "                 [7, 8]])  # shape (2, 2)\n",
        "\n",
        "C = tf.matmul(A, B)\n",
        "print(C.numpy())"
      ],
      "metadata": {
        "colab": {
          "base_uri": "https://localhost:8080/"
        },
        "id": "S0bIKErIi0KG",
        "outputId": "2c15f34a-d97e-40b9-8ad6-eca6a20272b6"
      },
      "execution_count": null,
      "outputs": [
        {
          "output_type": "stream",
          "name": "stdout",
          "text": [
            "[[19 22]\n",
            " [43 50]]\n"
          ]
        }
      ]
    },
    {
      "cell_type": "code",
      "source": [
        "from tensorflow.keras.layers import Softmax\n",
        "\n",
        "# Define the model with Softmax in the output layer\n",
        "model = Sequential([\n",
        "    CustomDenseLayer(128),\n",
        "    CustomDenseLayer(10),  # Hidden layer with ReLU activation\n",
        "    Softmax()              # Output layer with Softmax activation for multi-class classification\n",
        "])  # model can be built like this.\n"
      ],
      "metadata": {
        "id": "c5vWbb-bRpmR"
      },
      "execution_count": null,
      "outputs": []
    },
    {
      "cell_type": "code",
      "source": [
        "model.compile(optimizer='adam', loss='categorical_crossentropy')\n",
        "print(\"Model summary before building:\")\n",
        "model.summary()\n",
        "\n",
        "# Build the model to show parameters\n",
        "model.build((1000, 20))\n",
        "print(\"\\nModel summary after building:\")\n",
        "model.summary()"
      ],
      "metadata": {
        "colab": {
          "base_uri": "https://localhost:8080/",
          "height": 581
        },
        "id": "5VGancIGT2tG",
        "outputId": "bb78ef54-a59a-40a5-a9c6-a6baa4659d5e"
      },
      "execution_count": null,
      "outputs": [
        {
          "output_type": "stream",
          "name": "stdout",
          "text": [
            "Model summary before building:\n"
          ]
        },
        {
          "output_type": "display_data",
          "data": {
            "text/plain": [
              "\u001b[1mModel: \"sequential_23\"\u001b[0m\n"
            ],
            "text/html": [
              "<pre style=\"white-space:pre;overflow-x:auto;line-height:normal;font-family:Menlo,'DejaVu Sans Mono',consolas,'Courier New',monospace\"><span style=\"font-weight: bold\">Model: \"sequential_23\"</span>\n",
              "</pre>\n"
            ]
          },
          "metadata": {}
        },
        {
          "output_type": "display_data",
          "data": {
            "text/plain": [
              "┏━━━━━━━━━━━━━━━━━━━━━━━━━━━━━━━━━┳━━━━━━━━━━━━━━━━━━━━━━━━┳━━━━━━━━━━━━━━━┓\n",
              "┃\u001b[1m \u001b[0m\u001b[1mLayer (type)                   \u001b[0m\u001b[1m \u001b[0m┃\u001b[1m \u001b[0m\u001b[1mOutput Shape          \u001b[0m\u001b[1m \u001b[0m┃\u001b[1m \u001b[0m\u001b[1m      Param #\u001b[0m\u001b[1m \u001b[0m┃\n",
              "┡━━━━━━━━━━━━━━━━━━━━━━━━━━━━━━━━━╇━━━━━━━━━━━━━━━━━━━━━━━━╇━━━━━━━━━━━━━━━┩\n",
              "│ custom_dense_layer_68           │ ?                      │   \u001b[38;5;34m0\u001b[0m (unbuilt) │\n",
              "│ (\u001b[38;5;33mCustomDenseLayer\u001b[0m)              │                        │               │\n",
              "├─────────────────────────────────┼────────────────────────┼───────────────┤\n",
              "│ custom_dense_layer_69           │ ?                      │   \u001b[38;5;34m0\u001b[0m (unbuilt) │\n",
              "│ (\u001b[38;5;33mCustomDenseLayer\u001b[0m)              │                        │               │\n",
              "├─────────────────────────────────┼────────────────────────┼───────────────┤\n",
              "│ softmax_2 (\u001b[38;5;33mSoftmax\u001b[0m)             │ ?                      │             \u001b[38;5;34m0\u001b[0m │\n",
              "└─────────────────────────────────┴────────────────────────┴───────────────┘\n"
            ],
            "text/html": [
              "<pre style=\"white-space:pre;overflow-x:auto;line-height:normal;font-family:Menlo,'DejaVu Sans Mono',consolas,'Courier New',monospace\">┏━━━━━━━━━━━━━━━━━━━━━━━━━━━━━━━━━┳━━━━━━━━━━━━━━━━━━━━━━━━┳━━━━━━━━━━━━━━━┓\n",
              "┃<span style=\"font-weight: bold\"> Layer (type)                    </span>┃<span style=\"font-weight: bold\"> Output Shape           </span>┃<span style=\"font-weight: bold\">       Param # </span>┃\n",
              "┡━━━━━━━━━━━━━━━━━━━━━━━━━━━━━━━━━╇━━━━━━━━━━━━━━━━━━━━━━━━╇━━━━━━━━━━━━━━━┩\n",
              "│ custom_dense_layer_68           │ ?                      │   <span style=\"color: #00af00; text-decoration-color: #00af00\">0</span> (unbuilt) │\n",
              "│ (<span style=\"color: #0087ff; text-decoration-color: #0087ff\">CustomDenseLayer</span>)              │                        │               │\n",
              "├─────────────────────────────────┼────────────────────────┼───────────────┤\n",
              "│ custom_dense_layer_69           │ ?                      │   <span style=\"color: #00af00; text-decoration-color: #00af00\">0</span> (unbuilt) │\n",
              "│ (<span style=\"color: #0087ff; text-decoration-color: #0087ff\">CustomDenseLayer</span>)              │                        │               │\n",
              "├─────────────────────────────────┼────────────────────────┼───────────────┤\n",
              "│ softmax_2 (<span style=\"color: #0087ff; text-decoration-color: #0087ff\">Softmax</span>)             │ ?                      │             <span style=\"color: #00af00; text-decoration-color: #00af00\">0</span> │\n",
              "└─────────────────────────────────┴────────────────────────┴───────────────┘\n",
              "</pre>\n"
            ]
          },
          "metadata": {}
        },
        {
          "output_type": "display_data",
          "data": {
            "text/plain": [
              "\u001b[1m Total params: \u001b[0m\u001b[38;5;34m0\u001b[0m (0.00 B)\n"
            ],
            "text/html": [
              "<pre style=\"white-space:pre;overflow-x:auto;line-height:normal;font-family:Menlo,'DejaVu Sans Mono',consolas,'Courier New',monospace\"><span style=\"font-weight: bold\"> Total params: </span><span style=\"color: #00af00; text-decoration-color: #00af00\">0</span> (0.00 B)\n",
              "</pre>\n"
            ]
          },
          "metadata": {}
        },
        {
          "output_type": "display_data",
          "data": {
            "text/plain": [
              "\u001b[1m Trainable params: \u001b[0m\u001b[38;5;34m0\u001b[0m (0.00 B)\n"
            ],
            "text/html": [
              "<pre style=\"white-space:pre;overflow-x:auto;line-height:normal;font-family:Menlo,'DejaVu Sans Mono',consolas,'Courier New',monospace\"><span style=\"font-weight: bold\"> Trainable params: </span><span style=\"color: #00af00; text-decoration-color: #00af00\">0</span> (0.00 B)\n",
              "</pre>\n"
            ]
          },
          "metadata": {}
        },
        {
          "output_type": "display_data",
          "data": {
            "text/plain": [
              "\u001b[1m Non-trainable params: \u001b[0m\u001b[38;5;34m0\u001b[0m (0.00 B)\n"
            ],
            "text/html": [
              "<pre style=\"white-space:pre;overflow-x:auto;line-height:normal;font-family:Menlo,'DejaVu Sans Mono',consolas,'Courier New',monospace\"><span style=\"font-weight: bold\"> Non-trainable params: </span><span style=\"color: #00af00; text-decoration-color: #00af00\">0</span> (0.00 B)\n",
              "</pre>\n"
            ]
          },
          "metadata": {}
        },
        {
          "output_type": "stream",
          "name": "stdout",
          "text": [
            "\n",
            "Model summary after building:\n"
          ]
        },
        {
          "output_type": "display_data",
          "data": {
            "text/plain": [
              "\u001b[1mModel: \"sequential_23\"\u001b[0m\n"
            ],
            "text/html": [
              "<pre style=\"white-space:pre;overflow-x:auto;line-height:normal;font-family:Menlo,'DejaVu Sans Mono',consolas,'Courier New',monospace\"><span style=\"font-weight: bold\">Model: \"sequential_23\"</span>\n",
              "</pre>\n"
            ]
          },
          "metadata": {}
        },
        {
          "output_type": "display_data",
          "data": {
            "text/plain": [
              "┏━━━━━━━━━━━━━━━━━━━━━━━━━━━━━━━━━┳━━━━━━━━━━━━━━━━━━━━━━━━┳━━━━━━━━━━━━━━━┓\n",
              "┃\u001b[1m \u001b[0m\u001b[1mLayer (type)                   \u001b[0m\u001b[1m \u001b[0m┃\u001b[1m \u001b[0m\u001b[1mOutput Shape          \u001b[0m\u001b[1m \u001b[0m┃\u001b[1m \u001b[0m\u001b[1m      Param #\u001b[0m\u001b[1m \u001b[0m┃\n",
              "┡━━━━━━━━━━━━━━━━━━━━━━━━━━━━━━━━━╇━━━━━━━━━━━━━━━━━━━━━━━━╇━━━━━━━━━━━━━━━┩\n",
              "│ custom_dense_layer_68           │ (\u001b[38;5;34m1000\u001b[0m, \u001b[38;5;34m128\u001b[0m)            │         \u001b[38;5;34m2,688\u001b[0m │\n",
              "│ (\u001b[38;5;33mCustomDenseLayer\u001b[0m)              │                        │               │\n",
              "├─────────────────────────────────┼────────────────────────┼───────────────┤\n",
              "│ custom_dense_layer_69           │ (\u001b[38;5;34m1000\u001b[0m, \u001b[38;5;34m10\u001b[0m)             │         \u001b[38;5;34m1,290\u001b[0m │\n",
              "│ (\u001b[38;5;33mCustomDenseLayer\u001b[0m)              │                        │               │\n",
              "├─────────────────────────────────┼────────────────────────┼───────────────┤\n",
              "│ softmax_2 (\u001b[38;5;33mSoftmax\u001b[0m)             │ (\u001b[38;5;34m1000\u001b[0m, \u001b[38;5;34m10\u001b[0m)             │             \u001b[38;5;34m0\u001b[0m │\n",
              "└─────────────────────────────────┴────────────────────────┴───────────────┘\n"
            ],
            "text/html": [
              "<pre style=\"white-space:pre;overflow-x:auto;line-height:normal;font-family:Menlo,'DejaVu Sans Mono',consolas,'Courier New',monospace\">┏━━━━━━━━━━━━━━━━━━━━━━━━━━━━━━━━━┳━━━━━━━━━━━━━━━━━━━━━━━━┳━━━━━━━━━━━━━━━┓\n",
              "┃<span style=\"font-weight: bold\"> Layer (type)                    </span>┃<span style=\"font-weight: bold\"> Output Shape           </span>┃<span style=\"font-weight: bold\">       Param # </span>┃\n",
              "┡━━━━━━━━━━━━━━━━━━━━━━━━━━━━━━━━━╇━━━━━━━━━━━━━━━━━━━━━━━━╇━━━━━━━━━━━━━━━┩\n",
              "│ custom_dense_layer_68           │ (<span style=\"color: #00af00; text-decoration-color: #00af00\">1000</span>, <span style=\"color: #00af00; text-decoration-color: #00af00\">128</span>)            │         <span style=\"color: #00af00; text-decoration-color: #00af00\">2,688</span> │\n",
              "│ (<span style=\"color: #0087ff; text-decoration-color: #0087ff\">CustomDenseLayer</span>)              │                        │               │\n",
              "├─────────────────────────────────┼────────────────────────┼───────────────┤\n",
              "│ custom_dense_layer_69           │ (<span style=\"color: #00af00; text-decoration-color: #00af00\">1000</span>, <span style=\"color: #00af00; text-decoration-color: #00af00\">10</span>)             │         <span style=\"color: #00af00; text-decoration-color: #00af00\">1,290</span> │\n",
              "│ (<span style=\"color: #0087ff; text-decoration-color: #0087ff\">CustomDenseLayer</span>)              │                        │               │\n",
              "├─────────────────────────────────┼────────────────────────┼───────────────┤\n",
              "│ softmax_2 (<span style=\"color: #0087ff; text-decoration-color: #0087ff\">Softmax</span>)             │ (<span style=\"color: #00af00; text-decoration-color: #00af00\">1000</span>, <span style=\"color: #00af00; text-decoration-color: #00af00\">10</span>)             │             <span style=\"color: #00af00; text-decoration-color: #00af00\">0</span> │\n",
              "└─────────────────────────────────┴────────────────────────┴───────────────┘\n",
              "</pre>\n"
            ]
          },
          "metadata": {}
        },
        {
          "output_type": "display_data",
          "data": {
            "text/plain": [
              "\u001b[1m Total params: \u001b[0m\u001b[38;5;34m3,978\u001b[0m (15.54 KB)\n"
            ],
            "text/html": [
              "<pre style=\"white-space:pre;overflow-x:auto;line-height:normal;font-family:Menlo,'DejaVu Sans Mono',consolas,'Courier New',monospace\"><span style=\"font-weight: bold\"> Total params: </span><span style=\"color: #00af00; text-decoration-color: #00af00\">3,978</span> (15.54 KB)\n",
              "</pre>\n"
            ]
          },
          "metadata": {}
        },
        {
          "output_type": "display_data",
          "data": {
            "text/plain": [
              "\u001b[1m Trainable params: \u001b[0m\u001b[38;5;34m3,978\u001b[0m (15.54 KB)\n"
            ],
            "text/html": [
              "<pre style=\"white-space:pre;overflow-x:auto;line-height:normal;font-family:Menlo,'DejaVu Sans Mono',consolas,'Courier New',monospace\"><span style=\"font-weight: bold\"> Trainable params: </span><span style=\"color: #00af00; text-decoration-color: #00af00\">3,978</span> (15.54 KB)\n",
              "</pre>\n"
            ]
          },
          "metadata": {}
        },
        {
          "output_type": "display_data",
          "data": {
            "text/plain": [
              "\u001b[1m Non-trainable params: \u001b[0m\u001b[38;5;34m0\u001b[0m (0.00 B)\n"
            ],
            "text/html": [
              "<pre style=\"white-space:pre;overflow-x:auto;line-height:normal;font-family:Menlo,'DejaVu Sans Mono',consolas,'Courier New',monospace\"><span style=\"font-weight: bold\"> Non-trainable params: </span><span style=\"color: #00af00; text-decoration-color: #00af00\">0</span> (0.00 B)\n",
              "</pre>\n"
            ]
          },
          "metadata": {}
        }
      ]
    },
    {
      "cell_type": "markdown",
      "source": [
        "# here are total parameters, trainable params and non-trainable params. Are they similar to parameters in LLMs?"
      ],
      "metadata": {
        "id": "Mhg2Vp3tT996"
      }
    },
    {
      "cell_type": "code",
      "source": [
        "from tensorflow.keras.utils import plot_model\n",
        "\n",
        "plot_model(model, show_shapes=True, show_layer_names=True)"
      ],
      "metadata": {
        "colab": {
          "base_uri": "https://localhost:8080/",
          "height": 768
        },
        "id": "BdWqMa1IT2vi",
        "outputId": "13ede78e-e99a-49a8-a7e1-7feb73207259"
      },
      "execution_count": null,
      "outputs": [
        {
          "output_type": "execute_result",
          "data": {
            "image/png": "[encoded data removed]",
            "text/plain": [
              "<IPython.core.display.Image object>"
            ]
          },
          "metadata": {},
          "execution_count": 81
        }
      ]
    },
    {
      "cell_type": "code",
      "source": [
        "import pandas as pd\n",
        "\n",
        "df_train = pd.read_csv('/content/sample_data/california_housing_train.csv')\n",
        "df_test = pd.read_csv('/content/sample_data/california_housing_test.csv')"
      ],
      "metadata": {
        "id": "OJWU8dkGT2x6"
      },
      "execution_count": null,
      "outputs": []
    },
    {
      "cell_type": "code",
      "source": [
        "df_train.shape"
      ],
      "metadata": {
        "colab": {
          "base_uri": "https://localhost:8080/"
        },
        "id": "9UsaLgFjT20H",
        "outputId": "da8de429-b61b-49dc-861b-40a0cada727c"
      },
      "execution_count": null,
      "outputs": [
        {
          "output_type": "execute_result",
          "data": {
            "text/plain": [
              "(17000, 9)"
            ]
          },
          "metadata": {},
          "execution_count": 83
        }
      ]
    },
    {
      "cell_type": "code",
      "source": [
        "# build a model for predicting house value\n",
        "model = Sequential([\n",
        "    CustomDenseLayer(128),      # hidden layer\n",
        "    CustomDenseLayer(64),       # another hidden layer\n",
        "    CustomDenseLayer(1)         # output: 1 value (house price), no activation\n",
        "])"
      ],
      "metadata": {
        "id": "Sps9ndeAUxI1"
      },
      "execution_count": null,
      "outputs": []
    },
    {
      "cell_type": "code",
      "source": [
        "model.compile(optimizer='adam', loss='mse', metrics=['mae'])"
      ],
      "metadata": {
        "id": "B2a2Fm7XVHVO"
      },
      "execution_count": null,
      "outputs": []
    },
    {
      "cell_type": "code",
      "source": [
        "# Features and target\n",
        "X = df_train.drop(columns=['median_house_value']).to_numpy()\n",
        "y = df_train['median_house_value'].to_numpy()\n",
        "print(X)\n",
        "print(X.shape)\n",
        "# Fit the model\n",
        "history = model.fit(X, y, batch_size=32, epochs=10, validation_split=0.2)"
      ],
      "metadata": {
        "colab": {
          "base_uri": "https://localhost:8080/"
        },
        "id": "3f06YdegVHZ4",
        "outputId": "ea1931f2-8a32-4409-f662-c0024cd49176"
      },
      "execution_count": null,
      "outputs": [
        {
          "output_type": "stream",
          "name": "stdout",
          "text": [
            "[[-114.31     34.19     15.     ... 1015.      472.        1.4936]\n",
            " [-114.47     34.4      19.     ... 1129.      463.        1.82  ]\n",
            " [-114.56     33.69     17.     ...  333.      117.        1.6509]\n",
            " ...\n",
            " [-124.3      41.84     17.     ... 1244.      456.        3.0313]\n",
            " [-124.3      41.8      19.     ... 1298.      478.        1.9797]\n",
            " [-124.35     40.54     52.     ...  806.      270.        3.0147]]\n",
            "(17000, 8)\n",
            "Epoch 1/10\n",
            "\u001b[1m425/425\u001b[0m \u001b[32m━━━━━━━━━━━━━━━━━━━━\u001b[0m\u001b[37m\u001b[0m \u001b[1m2s\u001b[0m 2ms/step - loss: 38031933440.0000 - mae: 157445.8906 - val_loss: 33672916992.0000 - val_mae: 142708.7656\n",
            "Epoch 2/10\n",
            "\u001b[1m425/425\u001b[0m \u001b[32m━━━━━━━━━━━━━━━━━━━━\u001b[0m\u001b[37m\u001b[0m \u001b[1m1s\u001b[0m 2ms/step - loss: 22233556992.0000 - mae: 105768.7422 - val_loss: 28432719872.0000 - val_mae: 129187.0938\n",
            "Epoch 3/10\n",
            "\u001b[1m425/425\u001b[0m \u001b[32m━━━━━━━━━━━━━━━━━━━━\u001b[0m\u001b[37m\u001b[0m \u001b[1m1s\u001b[0m 1ms/step - loss: 17969403904.0000 - mae: 95380.9766 - val_loss: 19277713408.0000 - val_mae: 106602.7109\n",
            "Epoch 4/10\n",
            "\u001b[1m425/425\u001b[0m \u001b[32m━━━━━━━━━━━━━━━━━━━━\u001b[0m\u001b[37m\u001b[0m \u001b[1m1s\u001b[0m 2ms/step - loss: 11711439872.0000 - mae: 80044.6797 - val_loss: 15246587904.0000 - val_mae: 98749.6641\n",
            "Epoch 5/10\n",
            "\u001b[1m425/425\u001b[0m \u001b[32m━━━━━━━━━━━━━━━━━━━━\u001b[0m\u001b[37m\u001b[0m \u001b[1m1s\u001b[0m 1ms/step - loss: 10773069824.0000 - mae: 79931.1328 - val_loss: 14345409536.0000 - val_mae: 97120.4062\n",
            "Epoch 6/10\n",
            "\u001b[1m425/425\u001b[0m \u001b[32m━━━━━━━━━━━━━━━━━━━━\u001b[0m\u001b[37m\u001b[0m \u001b[1m1s\u001b[0m 1ms/step - loss: 10198114304.0000 - mae: 78371.0625 - val_loss: 14413419520.0000 - val_mae: 96995.4844\n",
            "Epoch 7/10\n",
            "\u001b[1m425/425\u001b[0m \u001b[32m━━━━━━━━━━━━━━━━━━━━\u001b[0m\u001b[37m\u001b[0m \u001b[1m1s\u001b[0m 2ms/step - loss: 10082408448.0000 - mae: 77673.3125 - val_loss: 13344697344.0000 - val_mae: 94812.1875\n",
            "Epoch 8/10\n",
            "\u001b[1m425/425\u001b[0m \u001b[32m━━━━━━━━━━━━━━━━━━━━\u001b[0m\u001b[37m\u001b[0m \u001b[1m1s\u001b[0m 2ms/step - loss: 10070072320.0000 - mae: 77870.4453 - val_loss: 13353035776.0000 - val_mae: 94369.9766\n",
            "Epoch 9/10\n",
            "\u001b[1m425/425\u001b[0m \u001b[32m━━━━━━━━━━━━━━━━━━━━\u001b[0m\u001b[37m\u001b[0m \u001b[1m1s\u001b[0m 1ms/step - loss: 9907562496.0000 - mae: 77266.3047 - val_loss: 13301471232.0000 - val_mae: 94073.2266\n",
            "Epoch 10/10\n",
            "\u001b[1m425/425\u001b[0m \u001b[32m━━━━━━━━━━━━━━━━━━━━\u001b[0m\u001b[37m\u001b[0m \u001b[1m1s\u001b[0m 2ms/step - loss: 9551387648.0000 - mae: 75601.5938 - val_loss: 12903877632.0000 - val_mae: 92657.4766\n"
          ]
        }
      ]
    },
    {
      "cell_type": "code",
      "source": [
        "# Features and target from test set\n",
        "X_test = df_test.drop(columns=['median_house_value']).to_numpy()\n",
        "y_test = df_test['median_house_value'].to_numpy()\n",
        "\n",
        "# Predictions\n",
        "y_pred = model.predict(X_test)\n",
        "\n",
        "# Show first few predictions\n",
        "for i in range(5):\n",
        "    print(f\"Predicted: {y_pred[i][0]:.2f}, Actual: {y_test[i]:.2f}\")"
      ],
      "metadata": {
        "colab": {
          "base_uri": "https://localhost:8080/"
        },
        "id": "vqK-SVTaVHcv",
        "outputId": "06eb22cc-974a-47db-9e9a-39703b80feb7"
      },
      "execution_count": null,
      "outputs": [
        {
          "output_type": "stream",
          "name": "stdout",
          "text": [
            "\u001b[1m94/94\u001b[0m \u001b[32m━━━━━━━━━━━━━━━━━━━━\u001b[0m\u001b[37m\u001b[0m \u001b[1m0s\u001b[0m 1ms/step  \n",
            "Predicted: 258613.41, Actual: 344700.00\n",
            "Predicted: 215797.81, Actual: 176500.00\n",
            "Predicted: 248282.16, Actual: 270500.00\n",
            "Predicted: 219112.97, Actual: 330000.00\n",
            "Predicted: 171567.91, Actual: 81700.00\n"
          ]
        }
      ]
    },
    {
      "cell_type": "code",
      "source": [
        "import tensorflow as tf\n",
        "\n",
        "base_row = tf.constant([1, 2, 3], dtype=tf.float32)\n",
        "\n",
        "# Stack 8 copies along axis 0\n",
        "my_matrix = tf.stack([base_row]*8, axis=0)\n",
        "print(my_matrix.shape)  # (8, 3)\n",
        "#print(my_matrix)"
      ],
      "metadata": {
        "colab": {
          "base_uri": "https://localhost:8080/"
        },
        "id": "LmdHkxT0jfXL",
        "outputId": "d995351b-2e78-49e6-fcce-846d3447b092"
      },
      "execution_count": null,
      "outputs": [
        {
          "output_type": "stream",
          "name": "stdout",
          "text": [
            "(8, 3)\n"
          ]
        }
      ]
    },
    {
      "cell_type": "code",
      "source": [
        "mat_mul = tf.matmul(X, my_matrix)\n",
        "print(mat_mul)"
      ],
      "metadata": {
        "colab": {
          "base_uri": "https://localhost:8080/",
          "height": 347
        },
        "id": "7C1eUzHnkNSR",
        "outputId": "45cae0cc-9457-40cd-cf22-0f213bd2b1d3"
      },
      "execution_count": null,
      "outputs": [
        {
          "output_type": "error",
          "ename": "InvalidArgumentError",
          "evalue": "cannot compute MatMul as input #1(zero-based) was expected to be a double tensor but is a float tensor [Op:MatMul] name: ",
          "traceback": [
            "\u001b[0;31m---------------------------------------------------------------------------\u001b[0m",
            "\u001b[0;31mInvalidArgumentError\u001b[0m                      Traceback (most recent call last)",
            "\u001b[0;32m/tmp/ipython-input-3456637347.py\u001b[0m in \u001b[0;36m<cell line: 0>\u001b[0;34m()\u001b[0m\n\u001b[0;32m----> 1\u001b[0;31m \u001b[0mmat_mul\u001b[0m \u001b[0;34m=\u001b[0m \u001b[0mtf\u001b[0m\u001b[0;34m.\u001b[0m\u001b[0mmatmul\u001b[0m\u001b[0;34m(\u001b[0m\u001b[0mX\u001b[0m\u001b[0;34m,\u001b[0m \u001b[0mmy_matrix\u001b[0m\u001b[0;34m)\u001b[0m\u001b[0;34m\u001b[0m\u001b[0;34m\u001b[0m\u001b[0m\n\u001b[0m\u001b[1;32m      2\u001b[0m \u001b[0mprint\u001b[0m\u001b[0;34m(\u001b[0m\u001b[0mmat_mul\u001b[0m\u001b[0;34m)\u001b[0m\u001b[0;34m\u001b[0m\u001b[0;34m\u001b[0m\u001b[0m\n",
            "\u001b[0;32m/usr/local/lib/python3.12/dist-packages/tensorflow/python/ops/weak_tensor_ops.py\u001b[0m in \u001b[0;36mwrapper\u001b[0;34m(*args, **kwargs)\u001b[0m\n\u001b[1;32m    140\u001b[0m   \u001b[0;32mdef\u001b[0m \u001b[0mwrapper\u001b[0m\u001b[0;34m(\u001b[0m\u001b[0;34m*\u001b[0m\u001b[0margs\u001b[0m\u001b[0;34m,\u001b[0m \u001b[0;34m**\u001b[0m\u001b[0mkwargs\u001b[0m\u001b[0;34m)\u001b[0m\u001b[0;34m:\u001b[0m\u001b[0;34m\u001b[0m\u001b[0;34m\u001b[0m\u001b[0m\n\u001b[1;32m    141\u001b[0m     \u001b[0;32mif\u001b[0m \u001b[0;32mnot\u001b[0m \u001b[0mops\u001b[0m\u001b[0;34m.\u001b[0m\u001b[0mis_auto_dtype_conversion_enabled\u001b[0m\u001b[0;34m(\u001b[0m\u001b[0;34m)\u001b[0m\u001b[0;34m:\u001b[0m\u001b[0;34m\u001b[0m\u001b[0;34m\u001b[0m\u001b[0m\n\u001b[0;32m--> 142\u001b[0;31m       \u001b[0;32mreturn\u001b[0m \u001b[0mop\u001b[0m\u001b[0;34m(\u001b[0m\u001b[0;34m*\u001b[0m\u001b[0margs\u001b[0m\u001b[0;34m,\u001b[0m \u001b[0;34m**\u001b[0m\u001b[0mkwargs\u001b[0m\u001b[0;34m)\u001b[0m\u001b[0;34m\u001b[0m\u001b[0;34m\u001b[0m\u001b[0m\n\u001b[0m\u001b[1;32m    143\u001b[0m     \u001b[0mbound_arguments\u001b[0m \u001b[0;34m=\u001b[0m \u001b[0msignature\u001b[0m\u001b[0;34m.\u001b[0m\u001b[0mbind\u001b[0m\u001b[0;34m(\u001b[0m\u001b[0;34m*\u001b[0m\u001b[0margs\u001b[0m\u001b[0;34m,\u001b[0m \u001b[0;34m**\u001b[0m\u001b[0mkwargs\u001b[0m\u001b[0;34m)\u001b[0m\u001b[0;34m\u001b[0m\u001b[0;34m\u001b[0m\u001b[0m\n\u001b[1;32m    144\u001b[0m     \u001b[0mbound_arguments\u001b[0m\u001b[0;34m.\u001b[0m\u001b[0mapply_defaults\u001b[0m\u001b[0;34m(\u001b[0m\u001b[0;34m)\u001b[0m\u001b[0;34m\u001b[0m\u001b[0;34m\u001b[0m\u001b[0m\n",
            "\u001b[0;32m/usr/local/lib/python3.12/dist-packages/tensorflow/python/util/traceback_utils.py\u001b[0m in \u001b[0;36merror_handler\u001b[0;34m(*args, **kwargs)\u001b[0m\n\u001b[1;32m    151\u001b[0m     \u001b[0;32mexcept\u001b[0m \u001b[0mException\u001b[0m \u001b[0;32mas\u001b[0m \u001b[0me\u001b[0m\u001b[0;34m:\u001b[0m\u001b[0;34m\u001b[0m\u001b[0;34m\u001b[0m\u001b[0m\n\u001b[1;32m    152\u001b[0m       \u001b[0mfiltered_tb\u001b[0m \u001b[0;34m=\u001b[0m \u001b[0m_process_traceback_frames\u001b[0m\u001b[0;34m(\u001b[0m\u001b[0me\u001b[0m\u001b[0;34m.\u001b[0m\u001b[0m__traceback__\u001b[0m\u001b[0;34m)\u001b[0m\u001b[0;34m\u001b[0m\u001b[0;34m\u001b[0m\u001b[0m\n\u001b[0;32m--> 153\u001b[0;31m       \u001b[0;32mraise\u001b[0m \u001b[0me\u001b[0m\u001b[0;34m.\u001b[0m\u001b[0mwith_traceback\u001b[0m\u001b[0;34m(\u001b[0m\u001b[0mfiltered_tb\u001b[0m\u001b[0;34m)\u001b[0m \u001b[0;32mfrom\u001b[0m \u001b[0;32mNone\u001b[0m\u001b[0;34m\u001b[0m\u001b[0;34m\u001b[0m\u001b[0m\n\u001b[0m\u001b[1;32m    154\u001b[0m     \u001b[0;32mfinally\u001b[0m\u001b[0;34m:\u001b[0m\u001b[0;34m\u001b[0m\u001b[0;34m\u001b[0m\u001b[0m\n\u001b[1;32m    155\u001b[0m       \u001b[0;32mdel\u001b[0m \u001b[0mfiltered_tb\u001b[0m\u001b[0;34m\u001b[0m\u001b[0;34m\u001b[0m\u001b[0m\n",
            "\u001b[0;32m/usr/local/lib/python3.12/dist-packages/tensorflow/python/framework/ops.py\u001b[0m in \u001b[0;36mraise_from_not_ok_status\u001b[0;34m(e, name)\u001b[0m\n\u001b[1;32m   6004\u001b[0m \u001b[0;32mdef\u001b[0m \u001b[0mraise_from_not_ok_status\u001b[0m\u001b[0;34m(\u001b[0m\u001b[0me\u001b[0m\u001b[0;34m,\u001b[0m \u001b[0mname\u001b[0m\u001b[0;34m)\u001b[0m \u001b[0;34m->\u001b[0m \u001b[0mNoReturn\u001b[0m\u001b[0;34m:\u001b[0m\u001b[0;34m\u001b[0m\u001b[0;34m\u001b[0m\u001b[0m\n\u001b[1;32m   6005\u001b[0m   \u001b[0me\u001b[0m\u001b[0;34m.\u001b[0m\u001b[0mmessage\u001b[0m \u001b[0;34m+=\u001b[0m \u001b[0;34m(\u001b[0m\u001b[0;34m\" name: \"\u001b[0m \u001b[0;34m+\u001b[0m \u001b[0mstr\u001b[0m\u001b[0;34m(\u001b[0m\u001b[0mname\u001b[0m \u001b[0;32mif\u001b[0m \u001b[0mname\u001b[0m \u001b[0;32mis\u001b[0m \u001b[0;32mnot\u001b[0m \u001b[0;32mNone\u001b[0m \u001b[0;32melse\u001b[0m \u001b[0;34m\"\"\u001b[0m\u001b[0;34m)\u001b[0m\u001b[0;34m)\u001b[0m\u001b[0;34m\u001b[0m\u001b[0;34m\u001b[0m\u001b[0m\n\u001b[0;32m-> 6006\u001b[0;31m   \u001b[0;32mraise\u001b[0m \u001b[0mcore\u001b[0m\u001b[0;34m.\u001b[0m\u001b[0m_status_to_exception\u001b[0m\u001b[0;34m(\u001b[0m\u001b[0me\u001b[0m\u001b[0;34m)\u001b[0m \u001b[0;32mfrom\u001b[0m \u001b[0;32mNone\u001b[0m  \u001b[0;31m# pylint: disable=protected-access\u001b[0m\u001b[0;34m\u001b[0m\u001b[0;34m\u001b[0m\u001b[0m\n\u001b[0m\u001b[1;32m   6007\u001b[0m \u001b[0;34m\u001b[0m\u001b[0m\n\u001b[1;32m   6008\u001b[0m \u001b[0;34m\u001b[0m\u001b[0m\n",
            "\u001b[0;31mInvalidArgumentError\u001b[0m: cannot compute MatMul as input #1(zero-based) was expected to be a double tensor but is a float tensor [Op:MatMul] name: "
          ]
        }
      ]
    },
    {
      "cell_type": "code",
      "source": [
        "# Ensure X is float32\n",
        "X_casted = tf.cast(X, tf.float32)\n",
        "\n",
        "# Now multiply\n",
        "mat_mul = tf.matmul(X_casted, my_matrix)\n",
        "print(mat_mul.shape)\n",
        "mat_mul"
      ],
      "metadata": {
        "colab": {
          "base_uri": "https://localhost:8080/"
        },
        "id": "4oqtSJmVkbq0",
        "outputId": "e3b21732-481b-4a95-b72d-f5f4d13e6b56"
      },
      "execution_count": null,
      "outputs": [
        {
          "output_type": "stream",
          "name": "stdout",
          "text": [
            "(17000, 3)\n"
          ]
        },
        {
          "output_type": "execute_result",
          "data": {
            "text/plain": [
              "<tf.Tensor: shape=(17000, 3), dtype=float32, numpy=\n",
              "array([[ 8318.373 , 16636.746 , 24955.121 ],\n",
              "       [11083.751 , 22167.502 , 33251.25  ],\n",
              "       [ 1281.7808,  2563.5615,  3845.3428],\n",
              "       ...,\n",
              "       [ 4845.5713,  9691.143 , 14536.713 ],\n",
              "       [ 4938.48  ,  9876.96  , 14815.439 ],\n",
              "       [ 3167.2046,  6334.409 ,  9501.614 ]], dtype=float32)>"
            ]
          },
          "metadata": {},
          "execution_count": 93
        }
      ]
    },
    {
      "cell_type": "markdown",
      "source": [
        "# use scaler"
      ],
      "metadata": {
        "id": "FqLWJn3WWEY9"
      }
    },
    {
      "cell_type": "code",
      "source": [
        "from sklearn.preprocessing import StandardScaler\n",
        "\n",
        "# Scale features\n",
        "X_scaler = StandardScaler()\n",
        "X_train_scaled = X_scaler.fit_transform(df_train.drop(columns=['median_house_value']))\n",
        "X_test_scaled = X_scaler.transform(df_test.drop(columns=['median_house_value']))\n",
        "\n",
        "# Scale target (y)\n",
        "y_scaler = StandardScaler()\n",
        "y_train_scaled = y_scaler.fit_transform(df_train[['median_house_value']])\n",
        "y_test_scaled = y_scaler.transform(df_test[['median_house_value']])\n",
        "\n",
        "y_train_scaled = y_train_scaled.reshape(-1, 1)\n",
        "y_test_scaled = y_test_scaled.reshape(-1, 1)\n",
        "\n",
        "# Train model\n",
        "history = model.fit(X_train_scaled, y_train_scaled, batch_size=32, epochs=50, validation_split=0.2)\n",
        "\n",
        "# Predictions (scaled)\n",
        "y_pred_scaled = model.predict(X_test_scaled)\n",
        "\n",
        "# Convert back to original scale\n",
        "y_pred = y_scaler.inverse_transform(y_pred_scaled)\n",
        "\n",
        "# Compare first few\n",
        "for i in range(5):\n",
        "    print(f\"Predicted: {y_pred[i][0]:.2f}, Actual: {df_test['median_house_value'].iloc[i]:.2f}\")\n"
      ],
      "metadata": {
        "colab": {
          "base_uri": "https://localhost:8080/",
          "height": 418
        },
        "id": "QYhdnYTaV1uQ",
        "outputId": "221713c3-84b6-48c1-f364-fe1c331417cc"
      },
      "execution_count": null,
      "outputs": [
        {
          "output_type": "stream",
          "name": "stdout",
          "text": [
            "Epoch 1/50\n"
          ]
        },
        {
          "output_type": "error",
          "ename": "ValueError",
          "evalue": "Cannot take the length of shape with unknown rank.",
          "traceback": [
            "\u001b[0;31m---------------------------------------------------------------------------\u001b[0m",
            "\u001b[0;31mValueError\u001b[0m                                Traceback (most recent call last)",
            "\u001b[0;32m/tmp/ipython-input-2758766141.py\u001b[0m in \u001b[0;36m<cell line: 0>\u001b[0;34m()\u001b[0m\n\u001b[1;32m     15\u001b[0m \u001b[0;34m\u001b[0m\u001b[0m\n\u001b[1;32m     16\u001b[0m \u001b[0;31m# Train model\u001b[0m\u001b[0;34m\u001b[0m\u001b[0;34m\u001b[0m\u001b[0m\n\u001b[0;32m---> 17\u001b[0;31m \u001b[0mhistory\u001b[0m \u001b[0;34m=\u001b[0m \u001b[0mmodel\u001b[0m\u001b[0;34m.\u001b[0m\u001b[0mfit\u001b[0m\u001b[0;34m(\u001b[0m\u001b[0mX_train_scaled\u001b[0m\u001b[0;34m,\u001b[0m \u001b[0my_train_scaled\u001b[0m\u001b[0;34m,\u001b[0m \u001b[0mbatch_size\u001b[0m\u001b[0;34m=\u001b[0m\u001b[0;36m32\u001b[0m\u001b[0;34m,\u001b[0m \u001b[0mepochs\u001b[0m\u001b[0;34m=\u001b[0m\u001b[0;36m50\u001b[0m\u001b[0;34m,\u001b[0m \u001b[0mvalidation_split\u001b[0m\u001b[0;34m=\u001b[0m\u001b[0;36m0.2\u001b[0m\u001b[0;34m)\u001b[0m\u001b[0;34m\u001b[0m\u001b[0;34m\u001b[0m\u001b[0m\n\u001b[0m\u001b[1;32m     18\u001b[0m \u001b[0;34m\u001b[0m\u001b[0m\n\u001b[1;32m     19\u001b[0m \u001b[0;31m# Predictions (scaled)\u001b[0m\u001b[0;34m\u001b[0m\u001b[0;34m\u001b[0m\u001b[0m\n",
            "\u001b[0;32m/usr/local/lib/python3.12/dist-packages/keras/src/utils/traceback_utils.py\u001b[0m in \u001b[0;36merror_handler\u001b[0;34m(*args, **kwargs)\u001b[0m\n\u001b[1;32m    120\u001b[0m             \u001b[0;31m# To get the full stack trace, call:\u001b[0m\u001b[0;34m\u001b[0m\u001b[0;34m\u001b[0m\u001b[0m\n\u001b[1;32m    121\u001b[0m             \u001b[0;31m# `keras.config.disable_traceback_filtering()`\u001b[0m\u001b[0;34m\u001b[0m\u001b[0;34m\u001b[0m\u001b[0m\n\u001b[0;32m--> 122\u001b[0;31m             \u001b[0;32mraise\u001b[0m \u001b[0me\u001b[0m\u001b[0;34m.\u001b[0m\u001b[0mwith_traceback\u001b[0m\u001b[0;34m(\u001b[0m\u001b[0mfiltered_tb\u001b[0m\u001b[0;34m)\u001b[0m \u001b[0;32mfrom\u001b[0m \u001b[0;32mNone\u001b[0m\u001b[0;34m\u001b[0m\u001b[0;34m\u001b[0m\u001b[0m\n\u001b[0m\u001b[1;32m    123\u001b[0m         \u001b[0;32mfinally\u001b[0m\u001b[0;34m:\u001b[0m\u001b[0;34m\u001b[0m\u001b[0;34m\u001b[0m\u001b[0m\n\u001b[1;32m    124\u001b[0m             \u001b[0;32mdel\u001b[0m \u001b[0mfiltered_tb\u001b[0m\u001b[0;34m\u001b[0m\u001b[0;34m\u001b[0m\u001b[0m\n",
            "\u001b[0;32m/usr/local/lib/python3.12/dist-packages/optree/ops.py\u001b[0m in \u001b[0;36mtree_map\u001b[0;34m(func, tree, is_leaf, none_is_leaf, namespace, *rests)\u001b[0m\n\u001b[1;32m    764\u001b[0m     \u001b[0mleaves\u001b[0m\u001b[0;34m,\u001b[0m \u001b[0mtreespec\u001b[0m \u001b[0;34m=\u001b[0m \u001b[0m_C\u001b[0m\u001b[0;34m.\u001b[0m\u001b[0mflatten\u001b[0m\u001b[0;34m(\u001b[0m\u001b[0mtree\u001b[0m\u001b[0;34m,\u001b[0m \u001b[0mis_leaf\u001b[0m\u001b[0;34m,\u001b[0m \u001b[0mnone_is_leaf\u001b[0m\u001b[0;34m,\u001b[0m \u001b[0mnamespace\u001b[0m\u001b[0;34m)\u001b[0m\u001b[0;34m\u001b[0m\u001b[0;34m\u001b[0m\u001b[0m\n\u001b[1;32m    765\u001b[0m     \u001b[0mflat_args\u001b[0m \u001b[0;34m=\u001b[0m \u001b[0;34m[\u001b[0m\u001b[0mleaves\u001b[0m\u001b[0;34m]\u001b[0m \u001b[0;34m+\u001b[0m \u001b[0;34m[\u001b[0m\u001b[0mtreespec\u001b[0m\u001b[0;34m.\u001b[0m\u001b[0mflatten_up_to\u001b[0m\u001b[0;34m(\u001b[0m\u001b[0mr\u001b[0m\u001b[0;34m)\u001b[0m \u001b[0;32mfor\u001b[0m \u001b[0mr\u001b[0m \u001b[0;32min\u001b[0m \u001b[0mrests\u001b[0m\u001b[0;34m]\u001b[0m\u001b[0;34m\u001b[0m\u001b[0;34m\u001b[0m\u001b[0m\n\u001b[0;32m--> 766\u001b[0;31m     \u001b[0;32mreturn\u001b[0m \u001b[0mtreespec\u001b[0m\u001b[0;34m.\u001b[0m\u001b[0munflatten\u001b[0m\u001b[0;34m(\u001b[0m\u001b[0mmap\u001b[0m\u001b[0;34m(\u001b[0m\u001b[0mfunc\u001b[0m\u001b[0;34m,\u001b[0m \u001b[0;34m*\u001b[0m\u001b[0mflat_args\u001b[0m\u001b[0;34m)\u001b[0m\u001b[0;34m)\u001b[0m\u001b[0;34m\u001b[0m\u001b[0;34m\u001b[0m\u001b[0m\n\u001b[0m\u001b[1;32m    767\u001b[0m \u001b[0;34m\u001b[0m\u001b[0m\n\u001b[1;32m    768\u001b[0m \u001b[0;34m\u001b[0m\u001b[0m\n",
            "\u001b[0;31mValueError\u001b[0m: Cannot take the length of shape with unknown rank."
          ]
        }
      ]
    },
    {
      "cell_type": "markdown",
      "source": [
        "⚠️ Note: .numpy() works only in eager execution mode (default in TF 2.x).\n"
      ],
      "metadata": {
        "id": "XumHY8aqX9aG"
      }
    },
    {
      "cell_type": "code",
      "source": [
        "# --- Custom Dense Layer ---\n",
        "class CustomDenseLayer(Layer):\n",
        "    def __init__(self, units, activation='relu'):\n",
        "        super().__init__()\n",
        "        self.units = units\n",
        "        self.activation = tf.keras.activations.get(activation)\n",
        "\n",
        "    def build(self, input_shape):\n",
        "        self.w = self.add_weight(\n",
        "            shape=(input_shape[-1], self.units),\n",
        "            initializer='glorot_uniform',\n",
        "            trainable=True\n",
        "        )\n",
        "        print(self.w)\n",
        "        self.b = self.add_weight(\n",
        "            shape=(self.units,),\n",
        "            initializer='zeros',\n",
        "            trainable=True\n",
        "        )\n",
        "\n",
        "    def call(self, inputs):\n",
        "        z = tf.matmul(inputs, self.w) + self.b\n",
        "        if self.activation is not None:\n",
        "            return self.activation(z)\n",
        "        return z\n",
        "\n",
        "\n",
        "\n",
        "# --- Scale features and target ---\n",
        "X_train = df_train.drop(columns=['median_house_value']).to_numpy()\n",
        "y_train = df_train[['median_house_value']].to_numpy()\n",
        "X_test = df_test.drop(columns=['median_house_value']).to_numpy()\n",
        "y_test = df_test[['median_house_value']].to_numpy()\n",
        "\n",
        "# Standardize\n",
        "X_scaler = StandardScaler()\n",
        "X_train_scaled = X_scaler.fit_transform(X_train)\n",
        "X_test_scaled = X_scaler.transform(X_test)\n",
        "\n",
        "y_scaler = StandardScaler()\n",
        "y_train_scaled = y_scaler.fit_transform(y_train)\n",
        "y_test_scaled = y_scaler.transform(y_test)\n",
        "\n",
        "# --- Build model ---\n",
        "model = Sequential([\n",
        "    CustomDenseLayer(128, activation='relu'),  # hidden layer\n",
        "    CustomDenseLayer(64, activation='relu'),   # hidden layer\n",
        "    CustomDenseLayer(1, activation=None)       # output layer, linear\n",
        "])\n",
        "\n",
        "model.compile(optimizer='adam', loss='mse', metrics=['mae'])\n",
        "\n",
        "# --- Train model ---\n",
        "history = model.fit(X_train_scaled, y_train_scaled,\n",
        "                    batch_size=32, epochs=10, validation_split=0.2)\n",
        "\n",
        "# --- Predict and inverse scale ---\n",
        "y_pred_scaled = model.predict(X_test_scaled)\n",
        "y_pred = y_scaler.inverse_transform(y_pred_scaled)\n",
        "\n",
        "# --- Compare first few predictions ---\n",
        "for i in range(5):\n",
        "    print(f\"Predicted: {y_pred[i][0]:.2f}, Actual: {df_test['median_house_value'].iloc[i]:.2f}\")"
      ],
      "metadata": {
        "colab": {
          "base_uri": "https://localhost:8080/",
          "height": 526
        },
        "id": "zX42fM0ZXfUT",
        "outputId": "9dee5652-b922-46be-8b76-e5a18fcb1213"
      },
      "execution_count": null,
      "outputs": [
        {
          "output_type": "stream",
          "name": "stdout",
          "text": [
            "Epoch 1/10\n"
          ]
        },
        {
          "output_type": "error",
          "ename": "NotImplementedError",
          "evalue": "Exception encountered when calling Sequential.call().\n\n\u001b[1mnumpy() is only available when eager execution is enabled.\u001b[0m\n\nArguments received by Sequential.call():\n  • inputs=tf.Tensor(shape=(32, 8), dtype=float32)\n  • training=True\n  • mask=None\n  • kwargs=<class 'inspect._empty'>",
          "traceback": [
            "\u001b[0;31m---------------------------------------------------------------------------\u001b[0m",
            "\u001b[0;31mNotImplementedError\u001b[0m                       Traceback (most recent call last)",
            "\u001b[0;32m/tmp/ipython-input-687023480.py\u001b[0m in \u001b[0;36m<cell line: 0>\u001b[0;34m()\u001b[0m\n\u001b[1;32m     52\u001b[0m \u001b[0;34m\u001b[0m\u001b[0m\n\u001b[1;32m     53\u001b[0m \u001b[0;31m# --- Train model ---\u001b[0m\u001b[0;34m\u001b[0m\u001b[0;34m\u001b[0m\u001b[0m\n\u001b[0;32m---> 54\u001b[0;31m history = model.fit(X_train_scaled, y_train_scaled,\n\u001b[0m\u001b[1;32m     55\u001b[0m                     batch_size=32, epochs=10, validation_split=0.2)\n\u001b[1;32m     56\u001b[0m \u001b[0;34m\u001b[0m\u001b[0m\n",
            "\u001b[0;32m/usr/local/lib/python3.12/dist-packages/keras/src/utils/traceback_utils.py\u001b[0m in \u001b[0;36merror_handler\u001b[0;34m(*args, **kwargs)\u001b[0m\n\u001b[1;32m    120\u001b[0m             \u001b[0;31m# To get the full stack trace, call:\u001b[0m\u001b[0;34m\u001b[0m\u001b[0;34m\u001b[0m\u001b[0m\n\u001b[1;32m    121\u001b[0m             \u001b[0;31m# `keras.config.disable_traceback_filtering()`\u001b[0m\u001b[0;34m\u001b[0m\u001b[0;34m\u001b[0m\u001b[0m\n\u001b[0;32m--> 122\u001b[0;31m             \u001b[0;32mraise\u001b[0m \u001b[0me\u001b[0m\u001b[0;34m.\u001b[0m\u001b[0mwith_traceback\u001b[0m\u001b[0;34m(\u001b[0m\u001b[0mfiltered_tb\u001b[0m\u001b[0;34m)\u001b[0m \u001b[0;32mfrom\u001b[0m \u001b[0;32mNone\u001b[0m\u001b[0;34m\u001b[0m\u001b[0;34m\u001b[0m\u001b[0m\n\u001b[0m\u001b[1;32m    123\u001b[0m         \u001b[0;32mfinally\u001b[0m\u001b[0;34m:\u001b[0m\u001b[0;34m\u001b[0m\u001b[0;34m\u001b[0m\u001b[0m\n\u001b[1;32m    124\u001b[0m             \u001b[0;32mdel\u001b[0m \u001b[0mfiltered_tb\u001b[0m\u001b[0;34m\u001b[0m\u001b[0;34m\u001b[0m\u001b[0m\n",
            "\u001b[0;32m/tmp/ipython-input-687023480.py\u001b[0m in \u001b[0;36mbuild\u001b[0;34m(self, input_shape)\u001b[0m\n\u001b[1;32m     12\u001b[0m             \u001b[0mtrainable\u001b[0m\u001b[0;34m=\u001b[0m\u001b[0;32mTrue\u001b[0m\u001b[0;34m\u001b[0m\u001b[0;34m\u001b[0m\u001b[0m\n\u001b[1;32m     13\u001b[0m         )\n\u001b[0;32m---> 14\u001b[0;31m         \u001b[0mprint\u001b[0m\u001b[0;34m(\u001b[0m\u001b[0mself\u001b[0m\u001b[0;34m.\u001b[0m\u001b[0mw\u001b[0m\u001b[0;34m)\u001b[0m\u001b[0;34m\u001b[0m\u001b[0;34m\u001b[0m\u001b[0m\n\u001b[0m\u001b[1;32m     15\u001b[0m         self.b = self.add_weight(\n\u001b[1;32m     16\u001b[0m             \u001b[0mshape\u001b[0m\u001b[0;34m=\u001b[0m\u001b[0;34m(\u001b[0m\u001b[0mself\u001b[0m\u001b[0;34m.\u001b[0m\u001b[0munits\u001b[0m\u001b[0;34m,\u001b[0m\u001b[0;34m)\u001b[0m\u001b[0;34m,\u001b[0m\u001b[0;34m\u001b[0m\u001b[0;34m\u001b[0m\u001b[0m\n",
            "\u001b[0;31mNotImplementedError\u001b[0m: Exception encountered when calling Sequential.call().\n\n\u001b[1mnumpy() is only available when eager execution is enabled.\u001b[0m\n\nArguments received by Sequential.call():\n  • inputs=tf.Tensor(shape=(32, 8), dtype=float32)\n  • training=True\n  • mask=None\n  • kwargs=<class 'inspect._empty'>"
          ]
        }
      ]
    },
    {
      "cell_type": "code",
      "source": [
        "# --- Custom Dense Layer ---\n",
        "class CustomDenseLayer(Layer):\n",
        "    def __init__(self, units, activation='relu'):\n",
        "        super().__init__()\n",
        "        self.units = units\n",
        "        self.activation = tf.keras.activations.get(activation)\n",
        "\n",
        "    def build(self, input_shape):\n",
        "        self.w = self.add_weight(\n",
        "            shape=(input_shape[-1], self.units),\n",
        "            initializer='glorot_uniform',\n",
        "            trainable=True\n",
        "        )\n",
        "        self.b = self.add_weight(\n",
        "            shape=(self.units,),\n",
        "            initializer='zeros',\n",
        "            trainable=True\n",
        "        )\n",
        "\n",
        "    def call(self, inputs):\n",
        "        z = tf.matmul(inputs, self.w) + self.b\n",
        "        if self.activation is not None:\n",
        "            return self.activation(z)\n",
        "        return z\n",
        "\n",
        "\n",
        "# --- Scale features and target ---\n",
        "X_train = df_train.drop(columns=['median_house_value']).to_numpy()\n",
        "y_train = df_train[['median_house_value']].to_numpy()\n",
        "X_test = df_test.drop(columns=['median_house_value']).to_numpy()\n",
        "y_test = df_test[['median_house_value']].to_numpy()\n",
        "\n",
        "# Standardize\n",
        "X_scaler = StandardScaler()\n",
        "X_train_scaled = X_scaler.fit_transform(X_train)\n",
        "X_test_scaled = X_scaler.transform(X_test)\n",
        "\n",
        "y_scaler = StandardScaler()\n",
        "y_train_scaled = y_scaler.fit_transform(y_train)\n",
        "y_test_scaled = y_scaler.transform(y_test)\n",
        "\n",
        "# --- Build model ---\n",
        "model = Sequential([\n",
        "    CustomDenseLayer(128, activation='relu'),  # hidden layer\n",
        "    CustomDenseLayer(64, activation='relu'),   # hidden layer\n",
        "    CustomDenseLayer(1, activation=None)       # output layer, linear\n",
        "])\n",
        "\n",
        "model.compile(optimizer='adam', loss='mse', metrics=['mae'])\n",
        "\n",
        "# --- Train model ---\n",
        "history = model.fit(X_train_scaled, y_train_scaled,\n",
        "                    batch_size=32, epochs=10, validation_split=0.2)\n",
        "\n",
        "# --- Predict and inverse scale ---\n",
        "y_pred_scaled = model.predict(X_test_scaled)\n",
        "y_pred = y_scaler.inverse_transform(y_pred_scaled)\n",
        "\n",
        "# --- Compare first few predictions ---\n",
        "for i in range(5):\n",
        "    print(f\"Predicted: {y_pred[i][0]:.2f}, Actual: {df_test['median_house_value'].iloc[i]:.2f}\")"
      ],
      "metadata": {
        "colab": {
          "base_uri": "https://localhost:8080/"
        },
        "id": "WjzPduEaV1zB",
        "outputId": "f1589d2b-f1c4-4437-9be4-eb03f2e6590e"
      },
      "execution_count": null,
      "outputs": [
        {
          "output_type": "stream",
          "name": "stdout",
          "text": [
            "Epoch 1/10\n",
            "\u001b[1m425/425\u001b[0m \u001b[32m━━━━━━━━━━━━━━━━━━━━\u001b[0m\u001b[37m\u001b[0m \u001b[1m1s\u001b[0m 2ms/step - loss: 0.4026 - mae: 0.4585 - val_loss: 0.4786 - val_mae: 0.4976\n",
            "Epoch 2/10\n",
            "\u001b[1m425/425\u001b[0m \u001b[32m━━━━━━━━━━━━━━━━━━━━\u001b[0m\u001b[37m\u001b[0m \u001b[1m1s\u001b[0m 2ms/step - loss: 0.2431 - mae: 0.3521 - val_loss: 0.4671 - val_mae: 0.5178\n",
            "Epoch 3/10\n",
            "\u001b[1m425/425\u001b[0m \u001b[32m━━━━━━━━━━━━━━━━━━━━\u001b[0m\u001b[37m\u001b[0m \u001b[1m1s\u001b[0m 2ms/step - loss: 0.2309 - mae: 0.3359 - val_loss: 0.4919 - val_mae: 0.5406\n",
            "Epoch 4/10\n",
            "\u001b[1m425/425\u001b[0m \u001b[32m━━━━━━━━━━━━━━━━━━━━\u001b[0m\u001b[37m\u001b[0m \u001b[1m1s\u001b[0m 1ms/step - loss: 0.2197 - mae: 0.3245 - val_loss: 0.4817 - val_mae: 0.5603\n",
            "Epoch 5/10\n",
            "\u001b[1m425/425\u001b[0m \u001b[32m━━━━━━━━━━━━━━━━━━━━\u001b[0m\u001b[37m\u001b[0m \u001b[1m1s\u001b[0m 2ms/step - loss: 0.2208 - mae: 0.3247 - val_loss: 0.4533 - val_mae: 0.5281\n",
            "Epoch 6/10\n",
            "\u001b[1m425/425\u001b[0m \u001b[32m━━━━━━━━━━━━━━━━━━━━\u001b[0m\u001b[37m\u001b[0m \u001b[1m1s\u001b[0m 2ms/step - loss: 0.2132 - mae: 0.3177 - val_loss: 0.4437 - val_mae: 0.5287\n",
            "Epoch 7/10\n",
            "\u001b[1m425/425\u001b[0m \u001b[32m━━━━━━━━━━━━━━━━━━━━\u001b[0m\u001b[37m\u001b[0m \u001b[1m1s\u001b[0m 1ms/step - loss: 0.2078 - mae: 0.3124 - val_loss: 0.4428 - val_mae: 0.5285\n",
            "Epoch 8/10\n",
            "\u001b[1m425/425\u001b[0m \u001b[32m━━━━━━━━━━━━━━━━━━━━\u001b[0m\u001b[37m\u001b[0m \u001b[1m1s\u001b[0m 1ms/step - loss: 0.2150 - mae: 0.3156 - val_loss: 0.4107 - val_mae: 0.5008\n",
            "Epoch 9/10\n",
            "\u001b[1m425/425\u001b[0m \u001b[32m━━━━━━━━━━━━━━━━━━━━\u001b[0m\u001b[37m\u001b[0m \u001b[1m1s\u001b[0m 1ms/step - loss: 0.2053 - mae: 0.3081 - val_loss: 0.4272 - val_mae: 0.5202\n",
            "Epoch 10/10\n",
            "\u001b[1m425/425\u001b[0m \u001b[32m━━━━━━━━━━━━━━━━━━━━\u001b[0m\u001b[37m\u001b[0m \u001b[1m1s\u001b[0m 2ms/step - loss: 0.1940 - mae: 0.3003 - val_loss: 0.3967 - val_mae: 0.4922\n",
            "\u001b[1m94/94\u001b[0m \u001b[32m━━━━━━━━━━━━━━━━━━━━\u001b[0m\u001b[37m\u001b[0m \u001b[1m0s\u001b[0m 1ms/step  \n",
            "Predicted: 378556.06, Actual: 344700.00\n",
            "Predicted: 198727.61, Actual: 176500.00\n",
            "Predicted: 278108.09, Actual: 270500.00\n",
            "Predicted: 354906.94, Actual: 330000.00\n",
            "Predicted: 71985.18, Actual: 81700.00\n"
          ]
        }
      ]
    },
    {
      "cell_type": "markdown",
      "source": [],
      "metadata": {
        "id": "sNWijuDRcw4b"
      }
    },
    {
      "cell_type": "code",
      "source": [
        "from tensorflow.keras.utils import plot_model\n",
        "\n",
        "plot_model(model, show_shapes=True, show_layer_names=True)"
      ],
      "metadata": {
        "colab": {
          "base_uri": "https://localhost:8080/",
          "height": 768
        },
        "id": "1qcvKbu5ZAUD",
        "outputId": "5283f40b-667b-43e6-e6ca-eeed00b68f80"
      },
      "execution_count": null,
      "outputs": [
        {
          "output_type": "execute_result",
          "data": {
            "image/png": "[encoded data removed]",
            "text/plain": [
              "<IPython.core.display.Image object>"
            ]
          },
          "metadata": {},
          "execution_count": 63
        }
      ]
    },
    {
      "cell_type": "code",
      "source": [
        "# After training\n",
        "for i, layer in enumerate(model.layers):\n",
        "    if isinstance(layer, CustomDenseLayer):\n",
        "        #print(f\"Layer {i} weights (w):\\n{layer.w.numpy()}\\n | num weights\", len(layer.w.numpy()), ' | num weights in ', len(layer.w[0].numpy()))\n",
        "        #print(f\"Layer {i} biases (b):\\n{layer.b.numpy()}\\n | num biases, \" ,len(layer.b.numpy()))\n",
        "        print(f\"Layer {i} | num weights\", len(layer.w.numpy()), ' | num weights in ', len(layer.w[0].numpy()))\n",
        "        print(f\"Layer {i} | num biases, \" ,len(layer.b.numpy()))"
      ],
      "metadata": {
        "colab": {
          "base_uri": "https://localhost:8080/"
        },
        "id": "31Xgv-RaV11X",
        "outputId": "6df1d704-cc6e-4cb0-a9e8-b4d613ff41b2"
      },
      "execution_count": null,
      "outputs": [
        {
          "output_type": "stream",
          "name": "stdout",
          "text": [
            "Layer 0 | num weights 8  | num weights in  128\n",
            "Layer 0 | num biases,  128\n",
            "Layer 1 | num weights 128  | num weights in  64\n",
            "Layer 1 | num biases,  64\n",
            "Layer 2 | num weights 64  | num weights in  1\n",
            "Layer 2 | num biases,  1\n"
          ]
        }
      ]
    },
    {
      "cell_type": "code",
      "source": [
        "# After training\n",
        "for i, layer in enumerate(model.layers):\n",
        "    if isinstance(layer, CustomDenseLayer):\n",
        "        #print(f\"Layer {i} weights (w):\\n{layer.w.numpy()}\\n | num weights\", len(layer.w.numpy()), ' | num weights in ', len(layer.w[0].numpy()))\n",
        "        #print(f\"Layer {i} biases (b):\\n{layer.b.numpy()}\\n | num biases, \" ,len(layer.b.numpy()))\n",
        "        print(f\"Layer {i} | weights shape\", layer.w.numpy().shape)\n",
        "        print(f\"Layer {i} | biases shape, \" , layer.b.numpy().shape)"
      ],
      "metadata": {
        "colab": {
          "base_uri": "https://localhost:8080/"
        },
        "id": "RttsF8bHd-a6",
        "outputId": "c0a1a1f0-e5c6-43de-bebb-50ecdeba8b70"
      },
      "execution_count": null,
      "outputs": [
        {
          "output_type": "stream",
          "name": "stdout",
          "text": [
            "Layer 0 | weights shape (8, 128)\n",
            "Layer 0 | biases shape,  (128,)\n",
            "Layer 1 | weights shape (128, 64)\n",
            "Layer 1 | biases shape,  (64,)\n",
            "Layer 2 | weights shape (64, 1)\n",
            "Layer 2 | biases shape,  (1,)\n"
          ]
        }
      ]
    },
    {
      "cell_type": "code",
      "source": [
        "print('Layer are fully connected.')\n",
        "# Number of input features\n",
        "print(\"Number of input features (input nodes):\", X_train.shape[1])\n",
        "\n",
        "# First hidden layer\n",
        "print(\"First hidden layer nodes:\", 128)\n",
        "print(\"Weights shape (input -> first layer):\", model.layers[0].w.numpy().shape)\n",
        "print(\"Explanation: For each of the 8 input nodes, there is a weight to each of the 128 neurons.\")\n",
        "\n",
        "# Second hidden layer\n",
        "print(\"Second hidden layer nodes:\", 64)\n",
        "print(\"Weights shape (first layer -> second layer):\", model.layers[1].w.numpy().shape)\n",
        "print(\"Explanation: For each of the 128 neurons in first layer, there is a weight to each of the 64 neurons.\")\n",
        "\n",
        "# Output layer\n",
        "print(\"Output layer nodes:\", 1)\n",
        "print(\"Weights shape (second layer -> output):\", model.layers[2].w.numpy().shape)\n",
        "print(\"Explanation: For each of the 64 neurons in second layer, there is a weight to the 1 output neuron.\")\n"
      ],
      "metadata": {
        "colab": {
          "base_uri": "https://localhost:8080/"
        },
        "id": "QCi8hgyldZlw",
        "outputId": "444a8da8-dad4-41cf-cf26-77931f829822"
      },
      "execution_count": null,
      "outputs": [
        {
          "output_type": "stream",
          "name": "stdout",
          "text": [
            "Layer are fully connected.\n",
            "Number of input features (input nodes): 8\n",
            "First hidden layer nodes: 128\n",
            "Weights shape (input -> first layer): (8, 128)\n",
            "Explanation: For each of the 8 input nodes, there is a weight to each of the 128 neurons.\n",
            "Second hidden layer nodes: 64\n",
            "Weights shape (first layer -> second layer): (128, 64)\n",
            "Explanation: For each of the 128 neurons in first layer, there is a weight to each of the 64 neurons.\n",
            "Output layer nodes: 1\n",
            "Weights shape (second layer -> output): (64, 1)\n",
            "Explanation: For each of the 64 neurons in second layer, there is a weight to the 1 output neuron.\n"
          ]
        }
      ]
    },
    {
      "cell_type": "markdown",
      "source": [],
      "metadata": {
        "id": "vZFWZ8y3eh6Y"
      }
    },
    {
      "cell_type": "markdown",
      "source": [],
      "metadata": {
        "id": "wxnhMB5idWsg"
      }
    },
    {
      "cell_type": "code",
      "source": [
        "from tensorflow.keras.layers import Dense\n",
        "\n",
        "# --- Build model ---\n",
        "model = Sequential([\n",
        "    Dense(128, activation='relu'),  # hidden layer\n",
        "    Dense(64, activation='relu'),   # hidden layer\n",
        "    Dense(1, activation=None)       # output layer, linear\n",
        "])\n",
        "\n",
        "model.compile(optimizer='adam', loss='mse', metrics=['mae'])\n",
        "\n",
        "# --- Train model ---\n",
        "history = model.fit(X_train_scaled, y_train_scaled,\n",
        "                    batch_size=32, epochs=10, validation_split=0.2)\n",
        "\n",
        "# --- Predict and inverse scale ---\n",
        "y_pred_scaled = model.predict(X_test_scaled)\n",
        "y_pred = y_scaler.inverse_transform(y_pred_scaled)\n",
        "\n",
        "# --- Compare first few predictions ---\n",
        "for i in range(5):\n",
        "    print(f\"Predicted: {y_pred[i][0]:.2f}, Actual: {df_test['median_house_value'].iloc[i]:.2f}\")"
      ],
      "metadata": {
        "colab": {
          "base_uri": "https://localhost:8080/"
        },
        "id": "HcZttGZvYfom",
        "outputId": "985da3c0-c471-42ec-eda0-fb6e3a184ad4"
      },
      "execution_count": null,
      "outputs": [
        {
          "output_type": "stream",
          "name": "stdout",
          "text": [
            "Epoch 1/10\n",
            "\u001b[1m425/425\u001b[0m \u001b[32m━━━━━━━━━━━━━━━━━━━━\u001b[0m\u001b[37m\u001b[0m \u001b[1m1s\u001b[0m 2ms/step - loss: 0.4003 - mae: 0.4519 - val_loss: 0.4096 - val_mae: 0.4809\n",
            "Epoch 2/10\n",
            "\u001b[1m425/425\u001b[0m \u001b[32m━━━━━━━━━━━━━━━━━━━━\u001b[0m\u001b[37m\u001b[0m \u001b[1m1s\u001b[0m 2ms/step - loss: 0.2573 - mae: 0.3567 - val_loss: 0.4798 - val_mae: 0.4968\n",
            "Epoch 3/10\n",
            "\u001b[1m425/425\u001b[0m \u001b[32m━━━━━━━━━━━━━━━━━━━━\u001b[0m\u001b[37m\u001b[0m \u001b[1m1s\u001b[0m 1ms/step - loss: 0.2401 - mae: 0.3414 - val_loss: 0.4389 - val_mae: 0.4778\n",
            "Epoch 4/10\n",
            "\u001b[1m425/425\u001b[0m \u001b[32m━━━━━━━━━━━━━━━━━━━━\u001b[0m\u001b[37m\u001b[0m \u001b[1m1s\u001b[0m 2ms/step - loss: 0.2284 - mae: 0.3322 - val_loss: 0.3891 - val_mae: 0.4693\n",
            "Epoch 5/10\n",
            "\u001b[1m425/425\u001b[0m \u001b[32m━━━━━━━━━━━━━━━━━━━━\u001b[0m\u001b[37m\u001b[0m \u001b[1m1s\u001b[0m 1ms/step - loss: 0.2199 - mae: 0.3259 - val_loss: 0.4341 - val_mae: 0.5044\n",
            "Epoch 6/10\n",
            "\u001b[1m425/425\u001b[0m \u001b[32m━━━━━━━━━━━━━━━━━━━━\u001b[0m\u001b[37m\u001b[0m \u001b[1m1s\u001b[0m 2ms/step - loss: 0.2106 - mae: 0.3184 - val_loss: 0.4354 - val_mae: 0.5226\n",
            "Epoch 7/10\n",
            "\u001b[1m425/425\u001b[0m \u001b[32m━━━━━━━━━━━━━━━━━━━━\u001b[0m\u001b[37m\u001b[0m \u001b[1m1s\u001b[0m 3ms/step - loss: 0.2063 - mae: 0.3158 - val_loss: 0.4546 - val_mae: 0.5281\n",
            "Epoch 8/10\n",
            "\u001b[1m425/425\u001b[0m \u001b[32m━━━━━━━━━━━━━━━━━━━━\u001b[0m\u001b[37m\u001b[0m \u001b[1m1s\u001b[0m 3ms/step - loss: 0.2143 - mae: 0.3205 - val_loss: 0.4305 - val_mae: 0.5124\n",
            "Epoch 9/10\n",
            "\u001b[1m425/425\u001b[0m \u001b[32m━━━━━━━━━━━━━━━━━━━━\u001b[0m\u001b[37m\u001b[0m \u001b[1m1s\u001b[0m 1ms/step - loss: 0.2045 - mae: 0.3127 - val_loss: 0.3859 - val_mae: 0.4721\n",
            "Epoch 10/10\n",
            "\u001b[1m425/425\u001b[0m \u001b[32m━━━━━━━━━━━━━━━━━━━━\u001b[0m\u001b[37m\u001b[0m \u001b[1m1s\u001b[0m 1ms/step - loss: 0.1938 - mae: 0.3020 - val_loss: 0.4535 - val_mae: 0.5361\n",
            "\u001b[1m94/94\u001b[0m \u001b[32m━━━━━━━━━━━━━━━━━━━━\u001b[0m\u001b[37m\u001b[0m \u001b[1m0s\u001b[0m 1ms/step  \n",
            "Predicted: 370194.28, Actual: 344700.00\n",
            "Predicted: 215609.47, Actual: 176500.00\n",
            "Predicted: 279177.53, Actual: 270500.00\n",
            "Predicted: 343192.03, Actual: 330000.00\n",
            "Predicted: 80060.55, Actual: 81700.00\n"
          ]
        }
      ]
    },
    {
      "cell_type": "markdown",
      "source": [
        "Epoch 1/10\n",
        "425/425 ━━━━━━━━━━━━━━━━━━━━ 2s 2ms/step - loss: 0.4057 - mae: 0.4587 - val_loss: 0.4220 - val_mae: 0.4917 <br>\n",
        "Epoch 2/10\n",
        "425/425 ━━━━━━━━━━━━━━━━━━━━ 1s 1ms/step - loss: 0.2513 - mae: 0.3537 - val_loss: 0.3762 - val_mae: 0.4709 <br>\n",
        "Epoch 3/10\n",
        "425/425 ━━━━━━━━━━━━━━━━━━━━ 1s 1ms/step - loss: 0.2274 - mae: 0.3363 - val_loss: 0.4653 - val_mae: 0.5049 <br>\n",
        "Epoch 4/10\n",
        "425/425 ━━━━━━━━━━━━━━━━━━━━ 2s 6ms/step - loss: 0.2287 - mae: 0.3304 - val_loss: 0.4304 - val_mae: 0.5081 <br>\n",
        "Epoch 5/10\n",
        "425/425 ━━━━━━━━━━━━━━━━━━━━ 1s 3ms/step - loss: 0.2149 - mae: 0.3209 - val_loss: 0.4222 - val_mae: 0.4908 <br>\n",
        "Epoch 6/10\n",
        "425/425 ━━━━━━━━━━━━━━━━━━━━ 1s 2ms/step - loss: 0.2159 - mae: 0.3221 - val_loss: 0.4130 - val_mae: 0.4765 <br>\n",
        "Epoch 7/10\n",
        "425/425 ━━━━━━━━━━━━━━━━━━━━ 1s 1ms/step - loss: 0.1970 - mae: 0.3061 - val_loss: 0.4497 - val_mae: 0.5343 <br>\n",
        "Epoch 8/10\n",
        "425/425 ━━━━━━━━━━━━━━━━━━━━ 1s 1ms/step - loss: 0.1996 - mae: 0.3090 - val_loss: 0.4054 - val_mae: 0.4778 <br>\n",
        "Epoch 9/10\n",
        "425/425 ━━━━━━━━━━━━━━━━━━━━ 1s 2ms/step - loss: 0.2006 - mae: 0.3061 - val_loss: 0.4592 - val_mae: 0.5276 <br>\n",
        "Epoch 10/10\n",
        "425/425 ━━━━━━━━━━━━━━━━━━━━ 1s 2ms/step - loss: 0.1944 - mae: 0.3055 - val_loss: 0.4484 - val_mae: 0.5004 <br>\n",
        "94/94 ━━━━━━━━━━━━━━━━━━━━ 0s 1ms/step   <br>\n",
        "Predicted: 386006.06, Actual: 344700.00<br>\n",
        "Predicted: 167167.69, Actual: 176500.00<br>\n",
        "Predicted: 278628.06, Actual: 270500.00<br>\n",
        "Predicted: 292211.28, Actual: 330000.00<br>\n",
        "Predicted: 74246.24, Actual: 81700.00"
      ],
      "metadata": {
        "id": "JRjVV5HhZRxy"
      }
    },
    {
      "cell_type": "markdown",
      "source": [
        "| Feature               | `CustomDenseLayer`                         | `tf.keras.layers.Dense`                                                            |\n",
        "| --------------------- | ------------------------------------------ | ---------------------------------------------------------------------------------- |\n",
        "| Weight initialization | You used `glorot_uniform` manually         | Dense defaults to `glorot_uniform` but can be changed via `kernel_initializer`     |\n",
        "| Bias initialization   | `zeros`                                    | Same, but can be changed via `bias_initializer`                                    |\n",
        "| Flexibility           | You manually implement `call()`            | Dense has highly optimized C++/CUDA backend, faster                                |\n",
        "| Features              | Only basic forward pass                    | Supports `activity_regularizer`, `use_bias=True/False`, `dtype`, `trainable`, etc. |\n",
        "| Serialization         | You have to manually handle saving/loading | Dense can be saved/loaded automatically with the model (`model.save()`)            |\n",
        "| GPU optimization      | Manual ops                                 | Dense is optimized for GPU/TPU                                                     |\n"
      ],
      "metadata": {
        "id": "B2TIngyfbX4N"
      }
    },
    {
      "cell_type": "code",
      "source": [
        "z = [[-1, 2], [3, -4]]\n",
        "activation = tf.nn.relu\n",
        "activation(z)  # [[0, 2], [3, 0]]\n"
      ],
      "metadata": {
        "colab": {
          "base_uri": "https://localhost:8080/"
        },
        "id": "QKcXgdsDgDlE",
        "outputId": "26203372-07b9-48ac-d8f6-fe2fcff7aae5"
      },
      "execution_count": null,
      "outputs": [
        {
          "output_type": "execute_result",
          "data": {
            "text/plain": [
              "<tf.Tensor: shape=(2, 2), dtype=int32, numpy=\n",
              "array([[0, 2],\n",
              "       [3, 0]], dtype=int32)>"
            ]
          },
          "metadata": {},
          "execution_count": 65
        }
      ]
    },
    {
      "cell_type": "markdown",
      "source": [],
      "metadata": {
        "id": "l0ZUci2mgoXk"
      }
    },
    {
      "cell_type": "markdown",
      "source": [
        "# Let's f. with the model"
      ],
      "metadata": {
        "id": "EnA35g25goas"
      }
    },
    {
      "cell_type": "code",
      "source": [
        "# --- Custom Dense Layer ---\n",
        "class CustomDenseLayer(Layer):\n",
        "    def __init__(self, units, activation='relu'):\n",
        "        super().__init__()\n",
        "        self.units = units\n",
        "        self.activation = tf.keras.activations.get(activation)\n",
        "\n",
        "    def build(self, input_shape):\n",
        "        self.w = self.add_weight(\n",
        "            shape=(input_shape[-1], self.units),\n",
        "            initializer='glorot_uniform',\n",
        "            trainable=True\n",
        "        )\n",
        "        self.b = self.add_weight(\n",
        "            shape=(self.units,),\n",
        "            initializer='zeros',\n",
        "            trainable=True\n",
        "        )\n",
        "\n",
        "    def call(self, inputs):\n",
        "        z = tf.matmul(inputs, self.w) + 3*self.b\n",
        "        if self.activation is not None:\n",
        "            return self.activation(z)\n",
        "        return z\n",
        "\n",
        "\n",
        "# --- Scale features and target ---\n",
        "X_train = df_train.drop(columns=['median_house_value']).to_numpy()\n",
        "y_train = df_train[['median_house_value']].to_numpy()\n",
        "X_test = df_test.drop(columns=['median_house_value']).to_numpy()\n",
        "y_test = df_test[['median_house_value']].to_numpy()\n",
        "\n",
        "# Standardize\n",
        "X_scaler = StandardScaler()\n",
        "X_train_scaled = X_scaler.fit_transform(X_train)\n",
        "X_test_scaled = X_scaler.transform(X_test)\n",
        "\n",
        "y_scaler = StandardScaler()\n",
        "y_train_scaled = y_scaler.fit_transform(y_train)\n",
        "y_test_scaled = y_scaler.transform(y_test)\n",
        "\n",
        "# --- Build model ---\n",
        "model = Sequential([\n",
        "    CustomDenseLayer(128, activation='relu'),  # hidden layer\n",
        "    CustomDenseLayer(64, activation='relu'),   # hidden layer\n",
        "    CustomDenseLayer(1, activation=None)       # output layer, linear\n",
        "])\n",
        "\n",
        "model.compile(optimizer='adam', loss='mse', metrics=['mae'])\n",
        "\n",
        "# --- Train model ---\n",
        "history = model.fit(X_train_scaled, y_train_scaled,\n",
        "                    batch_size=32, epochs=10, validation_split=0.2)\n",
        "\n",
        "# --- Predict and inverse scale ---\n",
        "y_pred_scaled = model.predict(X_test_scaled)\n",
        "y_pred = y_scaler.inverse_transform(y_pred_scaled)\n",
        "\n",
        "# --- Compare first few predictions ---\n",
        "for i in range(5):\n",
        "    print(f\"Predicted: {y_pred[i][0]:.2f}, Actual: {df_test['median_house_value'].iloc[i]:.2f}\")\n"
      ],
      "metadata": {
        "colab": {
          "base_uri": "https://localhost:8080/"
        },
        "id": "jT8jzcbMgnR2",
        "outputId": "b333ac81-5efb-445f-bd95-15bcc07d1801"
      },
      "execution_count": null,
      "outputs": [
        {
          "output_type": "stream",
          "name": "stdout",
          "text": [
            "Epoch 1/10\n",
            "\u001b[1m425/425\u001b[0m \u001b[32m━━━━━━━━━━━━━━━━━━━━\u001b[0m\u001b[37m\u001b[0m \u001b[1m1s\u001b[0m 2ms/step - loss: 0.4005 - mae: 0.4544 - val_loss: 0.4465 - val_mae: 0.5018\n",
            "Epoch 2/10\n",
            "\u001b[1m425/425\u001b[0m \u001b[32m━━━━━━━━━━━━━━━━━━━━\u001b[0m\u001b[37m\u001b[0m \u001b[1m1s\u001b[0m 2ms/step - loss: 0.2485 - mae: 0.3490 - val_loss: 0.4146 - val_mae: 0.5013\n",
            "Epoch 3/10\n",
            "\u001b[1m425/425\u001b[0m \u001b[32m━━━━━━━━━━━━━━━━━━━━\u001b[0m\u001b[37m\u001b[0m \u001b[1m1s\u001b[0m 2ms/step - loss: 0.2268 - mae: 0.3326 - val_loss: 0.4119 - val_mae: 0.5110\n",
            "Epoch 4/10\n",
            "\u001b[1m425/425\u001b[0m \u001b[32m━━━━━━━━━━━━━━━━━━━━\u001b[0m\u001b[37m\u001b[0m \u001b[1m1s\u001b[0m 2ms/step - loss: 0.2208 - mae: 0.3242 - val_loss: 0.4795 - val_mae: 0.5323\n",
            "Epoch 5/10\n",
            "\u001b[1m425/425\u001b[0m \u001b[32m━━━━━━━━━━━━━━━━━━━━\u001b[0m\u001b[37m\u001b[0m \u001b[1m1s\u001b[0m 1ms/step - loss: 0.2162 - mae: 0.3220 - val_loss: 0.4255 - val_mae: 0.4924\n",
            "Epoch 6/10\n",
            "\u001b[1m425/425\u001b[0m \u001b[32m━━━━━━━━━━━━━━━━━━━━\u001b[0m\u001b[37m\u001b[0m \u001b[1m1s\u001b[0m 1ms/step - loss: 0.2095 - mae: 0.3153 - val_loss: 0.4052 - val_mae: 0.5091\n",
            "Epoch 7/10\n",
            "\u001b[1m425/425\u001b[0m \u001b[32m━━━━━━━━━━━━━━━━━━━━\u001b[0m\u001b[37m\u001b[0m \u001b[1m1s\u001b[0m 2ms/step - loss: 0.2069 - mae: 0.3135 - val_loss: 0.3770 - val_mae: 0.4656\n",
            "Epoch 8/10\n",
            "\u001b[1m425/425\u001b[0m \u001b[32m━━━━━━━━━━━━━━━━━━━━\u001b[0m\u001b[37m\u001b[0m \u001b[1m1s\u001b[0m 3ms/step - loss: 0.1987 - mae: 0.3061 - val_loss: 0.4083 - val_mae: 0.5023\n",
            "Epoch 9/10\n",
            "\u001b[1m425/425\u001b[0m \u001b[32m━━━━━━━━━━━━━━━━━━━━\u001b[0m\u001b[37m\u001b[0m \u001b[1m1s\u001b[0m 3ms/step - loss: 0.1988 - mae: 0.3081 - val_loss: 0.4620 - val_mae: 0.4886\n",
            "Epoch 10/10\n",
            "\u001b[1m425/425\u001b[0m \u001b[32m━━━━━━━━━━━━━━━━━━━━\u001b[0m\u001b[37m\u001b[0m \u001b[1m1s\u001b[0m 1ms/step - loss: 0.2036 - mae: 0.3041 - val_loss: 0.4515 - val_mae: 0.4927\n",
            "\u001b[1m94/94\u001b[0m \u001b[32m━━━━━━━━━━━━━━━━━━━━\u001b[0m\u001b[37m\u001b[0m \u001b[1m0s\u001b[0m 1ms/step  \n",
            "Predicted: 342000.59, Actual: 344700.00\n",
            "Predicted: 202945.02, Actual: 176500.00\n",
            "Predicted: 266685.19, Actual: 270500.00\n",
            "Predicted: 333316.88, Actual: 330000.00\n",
            "Predicted: 77685.77, Actual: 81700.00\n"
          ]
        }
      ]
    },
    {
      "cell_type": "markdown",
      "source": [
        "# wow got even better!"
      ],
      "metadata": {
        "id": "QC91KwPtgyWC"
      }
    },
    {
      "cell_type": "code",
      "source": [
        "# --- Custom Dense Layer ---\n",
        "class CustomDenseLayer(Layer):\n",
        "    def __init__(self, units, activation='relu'):\n",
        "        super().__init__()\n",
        "        self.units = units\n",
        "        self.activation = tf.keras.activations.get(activation)\n",
        "\n",
        "    def build(self, input_shape):\n",
        "        self.w = self.add_weight(\n",
        "            shape=(input_shape[-1], self.units),\n",
        "            initializer='glorot_uniform',\n",
        "            trainable=True\n",
        "        )\n",
        "        self.b = self.add_weight(\n",
        "            shape=(self.units,),\n",
        "            initializer='zeros',\n",
        "            trainable=True\n",
        "        )\n",
        "\n",
        "    def call(self, inputs):\n",
        "        z = tf.matmul(inputs, self.w) + 10000*self.b\n",
        "        if self.activation is not None:\n",
        "            return self.activation(z)\n",
        "        return z\n",
        "\n",
        "\n",
        "# --- Build model ---\n",
        "model = Sequential([\n",
        "    CustomDenseLayer(128, activation='relu'),  # hidden layer\n",
        "    CustomDenseLayer(64, activation='relu'),   # hidden layer\n",
        "    CustomDenseLayer(1, activation=None)       # output layer, linear\n",
        "])\n",
        "\n",
        "model.compile(optimizer='adam', loss='mse', metrics=['mae'])\n",
        "\n",
        "# --- Train model ---\n",
        "history = model.fit(X_train_scaled, y_train_scaled,\n",
        "                    batch_size=32, epochs=10, validation_split=0.2)\n",
        "\n",
        "# --- Predict and inverse scale ---\n",
        "y_pred_scaled = model.predict(X_test_scaled)\n",
        "y_pred = y_scaler.inverse_transform(y_pred_scaled)\n",
        "\n",
        "# --- Compare first few predictions ---\n",
        "for i in range(5):\n",
        "    print(f\"Predicted: {y_pred[i][0]:.2f}, Actual: {df_test['median_house_value'].iloc[i]:.2f}\")\n"
      ],
      "metadata": {
        "colab": {
          "base_uri": "https://localhost:8080/"
        },
        "id": "AnVPqCcTg1Mf",
        "outputId": "c5b0b40c-88d1-4218-d463-b01b18879345"
      },
      "execution_count": null,
      "outputs": [
        {
          "output_type": "stream",
          "name": "stdout",
          "text": [
            "Epoch 1/10\n",
            "\u001b[1m425/425\u001b[0m \u001b[32m━━━━━━━━━━━━━━━━━━━━\u001b[0m\u001b[37m\u001b[0m \u001b[1m2s\u001b[0m 2ms/step - loss: 71.5208 - mae: 4.0333 - val_loss: 0.6853 - val_mae: 0.6277\n",
            "Epoch 2/10\n",
            "\u001b[1m425/425\u001b[0m \u001b[32m━━━━━━━━━━━━━━━━━━━━\u001b[0m\u001b[37m\u001b[0m \u001b[1m1s\u001b[0m 2ms/step - loss: 0.7045 - mae: 0.6496 - val_loss: 1.0032 - val_mae: 0.7525\n",
            "Epoch 3/10\n",
            "\u001b[1m425/425\u001b[0m \u001b[32m━━━━━━━━━━━━━━━━━━━━\u001b[0m\u001b[37m\u001b[0m \u001b[1m1s\u001b[0m 1ms/step - loss: 1.4292 - mae: 0.9702 - val_loss: 3.6632 - val_mae: 1.7789\n",
            "Epoch 4/10\n",
            "\u001b[1m425/425\u001b[0m \u001b[32m━━━━━━━━━━━━━━━━━━━━\u001b[0m\u001b[37m\u001b[0m \u001b[1m1s\u001b[0m 1ms/step - loss: 2.3423 - mae: 1.2143 - val_loss: 4.0100 - val_mae: 1.8729\n",
            "Epoch 5/10\n",
            "\u001b[1m425/425\u001b[0m \u001b[32m━━━━━━━━━━━━━━━━━━━━\u001b[0m\u001b[37m\u001b[0m \u001b[1m1s\u001b[0m 1ms/step - loss: 2.0110 - mae: 1.1453 - val_loss: 0.6577 - val_mae: 0.5903\n",
            "Epoch 6/10\n",
            "\u001b[1m425/425\u001b[0m \u001b[32m━━━━━━━━━━━━━━━━━━━━\u001b[0m\u001b[37m\u001b[0m \u001b[1m1s\u001b[0m 1ms/step - loss: 1.2790 - mae: 0.9035 - val_loss: 0.7293 - val_mae: 0.7337\n",
            "Epoch 7/10\n",
            "\u001b[1m425/425\u001b[0m \u001b[32m━━━━━━━━━━━━━━━━━━━━\u001b[0m\u001b[37m\u001b[0m \u001b[1m1s\u001b[0m 2ms/step - loss: 1.7601 - mae: 1.0716 - val_loss: 1.4832 - val_mae: 1.0886\n",
            "Epoch 8/10\n",
            "\u001b[1m425/425\u001b[0m \u001b[32m━━━━━━━━━━━━━━━━━━━━\u001b[0m\u001b[37m\u001b[0m \u001b[1m1s\u001b[0m 1ms/step - loss: 1.7584 - mae: 1.0350 - val_loss: 0.9546 - val_mae: 0.7248\n",
            "Epoch 9/10\n",
            "\u001b[1m425/425\u001b[0m \u001b[32m━━━━━━━━━━━━━━━━━━━━\u001b[0m\u001b[37m\u001b[0m \u001b[1m1s\u001b[0m 2ms/step - loss: 1.6314 - mae: 1.0339 - val_loss: 0.9251 - val_mae: 0.8359\n",
            "Epoch 10/10\n",
            "\u001b[1m425/425\u001b[0m \u001b[32m━━━━━━━━━━━━━━━━━━━━\u001b[0m\u001b[37m\u001b[0m \u001b[1m1s\u001b[0m 2ms/step - loss: 1.2835 - mae: 0.8806 - val_loss: 0.6300 - val_mae: 0.5862\n",
            "\u001b[1m94/94\u001b[0m \u001b[32m━━━━━━━━━━━━━━━━━━━━\u001b[0m\u001b[37m\u001b[0m \u001b[1m0s\u001b[0m 1ms/step  \n",
            "Predicted: 293879.91, Actual: 344700.00\n",
            "Predicted: 213567.88, Actual: 176500.00\n",
            "Predicted: 277677.62, Actual: 270500.00\n",
            "Predicted: 283854.31, Actual: 330000.00\n",
            "Predicted: 148378.03, Actual: 81700.00\n"
          ]
        }
      ]
    },
    {
      "cell_type": "markdown",
      "source": [
        "# wow converges real fast!!!!"
      ],
      "metadata": {
        "id": "lY0QcHIhg-JX"
      }
    },
    {
      "cell_type": "code",
      "source": [
        "# --- Custom Dense Layer ---\n",
        "class CustomDenseLayer(Layer):\n",
        "    def __init__(self, units, activation='relu'):\n",
        "        super().__init__()\n",
        "        self.units = units\n",
        "        self.activation = tf.keras.activations.get(activation)\n",
        "\n",
        "    def build(self, input_shape):\n",
        "        self.w = self.add_weight(\n",
        "            shape=(input_shape[-1], self.units),\n",
        "            initializer='glorot_uniform',\n",
        "            trainable=True\n",
        "        )\n",
        "        self.b = self.add_weight(\n",
        "            shape=(self.units,),\n",
        "            initializer='zeros',\n",
        "            trainable=True\n",
        "        )\n",
        "\n",
        "    def call(self, inputs):\n",
        "        z = tf.matmul(inputs, self.w) + 10000*self.b\n",
        "        if self.activation is not None:\n",
        "            return self.activation(z)\n",
        "        return z\n",
        "\n",
        "\n",
        "# --- Build model ---\n",
        "model = Sequential([\n",
        "    CustomDenseLayer(128, activation='relu'),  # hidden layer\n",
        "    CustomDenseLayer(64, activation='relu'),   # hidden layer\n",
        "    CustomDenseLayer(1, activation=None)       # output layer, linear\n",
        "])\n",
        "\n",
        "model.compile(optimizer='adam', loss='mse', metrics=['mae'])\n",
        "\n",
        "# --- Train model ---\n",
        "history = model.fit(X_train_scaled, y_train_scaled,\n",
        "                    batch_size=32, epochs=20, validation_split=0.2)\n",
        "\n",
        "# --- Predict and inverse scale ---\n",
        "y_pred_scaled = model.predict(X_test_scaled)\n",
        "y_pred = y_scaler.inverse_transform(y_pred_scaled)\n",
        "\n",
        "# --- Compare first few predictions ---\n",
        "for i in range(5):\n",
        "    print(f\"Predicted: {y_pred[i][0]:.2f}, Actual: {df_test['median_house_value'].iloc[i]:.2f}\")\n"
      ],
      "metadata": {
        "colab": {
          "base_uri": "https://localhost:8080/"
        },
        "id": "xC72R6LmhBK1",
        "outputId": "07d589fc-fc7a-4c79-bfe5-372ff6b0c16c"
      },
      "execution_count": null,
      "outputs": [
        {
          "output_type": "stream",
          "name": "stdout",
          "text": [
            "Epoch 1/20\n",
            "\u001b[1m425/425\u001b[0m \u001b[32m━━━━━━━━━━━━━━━━━━━━\u001b[0m\u001b[37m\u001b[0m \u001b[1m2s\u001b[0m 2ms/step - loss: 84.0574 - mae: 4.2206 - val_loss: 1.3411 - val_mae: 0.8797\n",
            "Epoch 2/20\n",
            "\u001b[1m425/425\u001b[0m \u001b[32m━━━━━━━━━━━━━━━━━━━━\u001b[0m\u001b[37m\u001b[0m \u001b[1m1s\u001b[0m 2ms/step - loss: 0.6114 - mae: 0.5989 - val_loss: 2.0760 - val_mae: 1.2558\n",
            "Epoch 3/20\n",
            "\u001b[1m425/425\u001b[0m \u001b[32m━━━━━━━━━━━━━━━━━━━━\u001b[0m\u001b[37m\u001b[0m \u001b[1m1s\u001b[0m 2ms/step - loss: 0.9253 - mae: 0.7545 - val_loss: 0.4876 - val_mae: 0.5274\n",
            "Epoch 4/20\n",
            "\u001b[1m425/425\u001b[0m \u001b[32m━━━━━━━━━━━━━━━━━━━━\u001b[0m\u001b[37m\u001b[0m \u001b[1m1s\u001b[0m 2ms/step - loss: 1.2239 - mae: 0.8664 - val_loss: 1.9639 - val_mae: 1.2263\n",
            "Epoch 5/20\n",
            "\u001b[1m425/425\u001b[0m \u001b[32m━━━━━━━━━━━━━━━━━━━━\u001b[0m\u001b[37m\u001b[0m \u001b[1m1s\u001b[0m 1ms/step - loss: 1.5092 - mae: 0.9690 - val_loss: 0.5405 - val_mae: 0.6117\n",
            "Epoch 6/20\n",
            "\u001b[1m425/425\u001b[0m \u001b[32m━━━━━━━━━━━━━━━━━━━━\u001b[0m\u001b[37m\u001b[0m \u001b[1m1s\u001b[0m 2ms/step - loss: 1.8317 - mae: 1.0718 - val_loss: 1.6919 - val_mae: 1.0926\n",
            "Epoch 7/20\n",
            "\u001b[1m425/425\u001b[0m \u001b[32m━━━━━━━━━━━━━━━━━━━━\u001b[0m\u001b[37m\u001b[0m \u001b[1m1s\u001b[0m 2ms/step - loss: 1.3227 - mae: 0.9250 - val_loss: 0.8617 - val_mae: 0.6857\n",
            "Epoch 8/20\n",
            "\u001b[1m425/425\u001b[0m \u001b[32m━━━━━━━━━━━━━━━━━━━━\u001b[0m\u001b[37m\u001b[0m \u001b[1m1s\u001b[0m 2ms/step - loss: 2.0319 - mae: 1.1370 - val_loss: 1.3466 - val_mae: 1.0342\n",
            "Epoch 9/20\n",
            "\u001b[1m425/425\u001b[0m \u001b[32m━━━━━━━━━━━━━━━━━━━━\u001b[0m\u001b[37m\u001b[0m \u001b[1m1s\u001b[0m 2ms/step - loss: 1.2691 - mae: 0.8783 - val_loss: 1.7089 - val_mae: 1.1748\n",
            "Epoch 10/20\n",
            "\u001b[1m425/425\u001b[0m \u001b[32m━━━━━━━━━━━━━━━━━━━━\u001b[0m\u001b[37m\u001b[0m \u001b[1m1s\u001b[0m 1ms/step - loss: 1.9245 - mae: 1.0797 - val_loss: 0.9680 - val_mae: 0.7367\n",
            "Epoch 11/20\n",
            "\u001b[1m425/425\u001b[0m \u001b[32m━━━━━━━━━━━━━━━━━━━━\u001b[0m\u001b[37m\u001b[0m \u001b[1m1s\u001b[0m 1ms/step - loss: 1.1562 - mae: 0.8540 - val_loss: 3.2243 - val_mae: 1.6550\n",
            "Epoch 12/20\n",
            "\u001b[1m425/425\u001b[0m \u001b[32m━━━━━━━━━━━━━━━━━━━━\u001b[0m\u001b[37m\u001b[0m \u001b[1m1s\u001b[0m 1ms/step - loss: 1.5535 - mae: 1.0086 - val_loss: 1.2730 - val_mae: 0.8941\n",
            "Epoch 13/20\n",
            "\u001b[1m425/425\u001b[0m \u001b[32m━━━━━━━━━━━━━━━━━━━━\u001b[0m\u001b[37m\u001b[0m \u001b[1m1s\u001b[0m 2ms/step - loss: 1.1230 - mae: 0.8265 - val_loss: 1.8221 - val_mae: 1.1620\n",
            "Epoch 14/20\n",
            "\u001b[1m425/425\u001b[0m \u001b[32m━━━━━━━━━━━━━━━━━━━━\u001b[0m\u001b[37m\u001b[0m \u001b[1m1s\u001b[0m 2ms/step - loss: 1.0494 - mae: 0.8135 - val_loss: 0.4910 - val_mae: 0.5645\n",
            "Epoch 15/20\n",
            "\u001b[1m425/425\u001b[0m \u001b[32m━━━━━━━━━━━━━━━━━━━━\u001b[0m\u001b[37m\u001b[0m \u001b[1m1s\u001b[0m 2ms/step - loss: 1.1960 - mae: 0.8513 - val_loss: 0.8923 - val_mae: 0.8239\n",
            "Epoch 16/20\n",
            "\u001b[1m425/425\u001b[0m \u001b[32m━━━━━━━━━━━━━━━━━━━━\u001b[0m\u001b[37m\u001b[0m \u001b[1m1s\u001b[0m 2ms/step - loss: 1.5457 - mae: 0.9987 - val_loss: 0.6024 - val_mae: 0.5603\n",
            "Epoch 17/20\n",
            "\u001b[1m425/425\u001b[0m \u001b[32m━━━━━━━━━━━━━━━━━━━━\u001b[0m\u001b[37m\u001b[0m \u001b[1m1s\u001b[0m 2ms/step - loss: 0.9169 - mae: 0.7545 - val_loss: 0.5000 - val_mae: 0.5676\n",
            "Epoch 18/20\n",
            "\u001b[1m425/425\u001b[0m \u001b[32m━━━━━━━━━━━━━━━━━━━━\u001b[0m\u001b[37m\u001b[0m \u001b[1m1s\u001b[0m 2ms/step - loss: 0.9781 - mae: 0.7589 - val_loss: 0.4616 - val_mae: 0.5388\n",
            "Epoch 19/20\n",
            "\u001b[1m425/425\u001b[0m \u001b[32m━━━━━━━━━━━━━━━━━━━━\u001b[0m\u001b[37m\u001b[0m \u001b[1m1s\u001b[0m 2ms/step - loss: 1.0602 - mae: 0.8116 - val_loss: 3.6180 - val_mae: 1.7567\n",
            "Epoch 20/20\n",
            "\u001b[1m425/425\u001b[0m \u001b[32m━━━━━━━━━━━━━━━━━━━━\u001b[0m\u001b[37m\u001b[0m \u001b[1m1s\u001b[0m 2ms/step - loss: 0.8805 - mae: 0.7455 - val_loss: 1.6393 - val_mae: 1.0934\n",
            "\u001b[1m94/94\u001b[0m \u001b[32m━━━━━━━━━━━━━━━━━━━━\u001b[0m\u001b[37m\u001b[0m \u001b[1m0s\u001b[0m 1ms/step\n",
            "Predicted: 224232.97, Actual: 344700.00\n",
            "Predicted: 129475.55, Actual: 176500.00\n",
            "Predicted: 203149.14, Actual: 270500.00\n",
            "Predicted: 217300.88, Actual: 330000.00\n",
            "Predicted: 41756.46, Actual: 81700.00\n"
          ]
        }
      ]
    },
    {
      "cell_type": "markdown",
      "source": [
        "# let's dont use bias"
      ],
      "metadata": {
        "id": "kH3STqcshonb"
      }
    },
    {
      "cell_type": "code",
      "source": [
        "# --- Custom Dense Layer ---\n",
        "class CustomDenseLayer(Layer):\n",
        "    def __init__(self, units, activation='relu'):\n",
        "        super().__init__()\n",
        "        self.units = units\n",
        "        self.activation = tf.keras.activations.get(activation)\n",
        "\n",
        "    def build(self, input_shape):\n",
        "        self.w = self.add_weight(\n",
        "            shape=(input_shape[-1], self.units),\n",
        "            initializer='glorot_uniform',\n",
        "            trainable=True\n",
        "        )\n",
        "        self.b = self.add_weight(\n",
        "            shape=(self.units,),\n",
        "            initializer='zeros',\n",
        "            trainable=True\n",
        "        )\n",
        "\n",
        "    def call(self, inputs):\n",
        "        z = tf.matmul(inputs, self.w)\n",
        "        if self.activation is not None:\n",
        "            return self.activation(z)\n",
        "        return z\n",
        "\n",
        "# --- Build model ---\n",
        "model = Sequential([\n",
        "    CustomDenseLayer(128, activation='relu'),  # hidden layer\n",
        "    CustomDenseLayer(64, activation='relu'),   # hidden layer\n",
        "    CustomDenseLayer(1, activation=None)       # output layer, linear\n",
        "])\n",
        "\n",
        "model.compile(optimizer='adam', loss='mse', metrics=['mae'])\n",
        "\n",
        "# --- Train model ---\n",
        "history = model.fit(X_train_scaled, y_train_scaled,\n",
        "                    batch_size=32, epochs=10, validation_split=0.2)\n",
        "\n",
        "# --- Predict and inverse scale ---\n",
        "y_pred_scaled = model.predict(X_test_scaled)\n",
        "y_pred = y_scaler.inverse_transform(y_pred_scaled)\n",
        "\n",
        "# --- Compare first few predictions ---\n",
        "for i in range(5):\n",
        "    print(f\"Predicted: {y_pred[i][0]:.2f}, Actual: {df_test['median_house_value'].iloc[i]:.2f}\")\n"
      ],
      "metadata": {
        "colab": {
          "base_uri": "https://localhost:8080/"
        },
        "id": "Gjl9k_hchTUe",
        "outputId": "6d0c4960-a0d7-4a17-fcd5-1acaa6ce2db7"
      },
      "execution_count": null,
      "outputs": [
        {
          "output_type": "stream",
          "name": "stdout",
          "text": [
            "Epoch 1/10\n"
          ]
        },
        {
          "output_type": "stream",
          "name": "stderr",
          "text": [
            "/usr/local/lib/python3.12/dist-packages/keras/src/optimizers/base_optimizer.py:855: UserWarning: Gradients do not exist for variables ['sequential_21/custom_dense_layer_62/variable_96', 'sequential_21/custom_dense_layer_63/variable_98', 'sequential_21/custom_dense_layer_64/variable_100'] when minimizing the loss. If using `model.compile()`, did you forget to provide a `loss` argument?\n",
            "  warnings.warn(\n"
          ]
        },
        {
          "output_type": "stream",
          "name": "stdout",
          "text": [
            "\u001b[1m425/425\u001b[0m \u001b[32m━━━━━━━━━━━━━━━━━━━━\u001b[0m\u001b[37m\u001b[0m \u001b[1m2s\u001b[0m 2ms/step - loss: 0.4023 - mae: 0.4604 - val_loss: 0.4955 - val_mae: 0.5060\n",
            "Epoch 2/10\n",
            "\u001b[1m425/425\u001b[0m \u001b[32m━━━━━━━━━━━━━━━━━━━━\u001b[0m\u001b[37m\u001b[0m \u001b[1m1s\u001b[0m 2ms/step - loss: 0.2644 - mae: 0.3663 - val_loss: 0.4110 - val_mae: 0.4570\n",
            "Epoch 3/10\n",
            "\u001b[1m425/425\u001b[0m \u001b[32m━━━━━━━━━━━━━━━━━━━━\u001b[0m\u001b[37m\u001b[0m \u001b[1m1s\u001b[0m 2ms/step - loss: 0.2517 - mae: 0.3535 - val_loss: 0.4061 - val_mae: 0.4644\n",
            "Epoch 4/10\n",
            "\u001b[1m425/425\u001b[0m \u001b[32m━━━━━━━━━━━━━━━━━━━━\u001b[0m\u001b[37m\u001b[0m \u001b[1m1s\u001b[0m 1ms/step - loss: 0.2372 - mae: 0.3441 - val_loss: 0.3970 - val_mae: 0.4531\n",
            "Epoch 5/10\n",
            "\u001b[1m425/425\u001b[0m \u001b[32m━━━━━━━━━━━━━━━━━━━━\u001b[0m\u001b[37m\u001b[0m \u001b[1m1s\u001b[0m 1ms/step - loss: 0.2390 - mae: 0.3425 - val_loss: 0.4175 - val_mae: 0.4810\n",
            "Epoch 6/10\n",
            "\u001b[1m425/425\u001b[0m \u001b[32m━━━━━━━━━━━━━━━━━━━━\u001b[0m\u001b[37m\u001b[0m \u001b[1m1s\u001b[0m 1ms/step - loss: 0.2247 - mae: 0.3348 - val_loss: 0.4674 - val_mae: 0.4907\n",
            "Epoch 7/10\n",
            "\u001b[1m425/425\u001b[0m \u001b[32m━━━━━━━━━━━━━━━━━━━━\u001b[0m\u001b[37m\u001b[0m \u001b[1m1s\u001b[0m 2ms/step - loss: 0.2235 - mae: 0.3333 - val_loss: 0.3933 - val_mae: 0.4688\n",
            "Epoch 8/10\n",
            "\u001b[1m425/425\u001b[0m \u001b[32m━━━━━━━━━━━━━━━━━━━━\u001b[0m\u001b[37m\u001b[0m \u001b[1m1s\u001b[0m 2ms/step - loss: 0.2244 - mae: 0.3337 - val_loss: 0.3645 - val_mae: 0.4531\n",
            "Epoch 9/10\n",
            "\u001b[1m425/425\u001b[0m \u001b[32m━━━━━━━━━━━━━━━━━━━━\u001b[0m\u001b[37m\u001b[0m \u001b[1m1s\u001b[0m 2ms/step - loss: 0.2209 - mae: 0.3310 - val_loss: 0.3795 - val_mae: 0.4497\n",
            "Epoch 10/10\n",
            "\u001b[1m425/425\u001b[0m \u001b[32m━━━━━━━━━━━━━━━━━━━━\u001b[0m\u001b[37m\u001b[0m \u001b[1m1s\u001b[0m 2ms/step - loss: 0.2213 - mae: 0.3269 - val_loss: 0.4126 - val_mae: 0.4652\n",
            "\u001b[1m94/94\u001b[0m \u001b[32m━━━━━━━━━━━━━━━━━━━━\u001b[0m\u001b[37m\u001b[0m \u001b[1m0s\u001b[0m 999us/step\n",
            "Predicted: 365040.47, Actual: 344700.00\n",
            "Predicted: 182137.67, Actual: 176500.00\n",
            "Predicted: 266803.72, Actual: 270500.00\n",
            "Predicted: 307543.00, Actual: 330000.00\n",
            "Predicted: 105688.41, Actual: 81700.00\n"
          ]
        }
      ]
    },
    {
      "cell_type": "markdown",
      "source": [
        "# nice again even without bias!"
      ],
      "metadata": {
        "id": "GoRUecoMhyXd"
      }
    },
    {
      "cell_type": "markdown",
      "source": [
        "# let's try 10x weights"
      ],
      "metadata": {
        "id": "rGeF85TxiIc9"
      }
    },
    {
      "cell_type": "code",
      "source": [
        "# --- Custom Dense Layer ---\n",
        "class CustomDenseLayer(Layer):\n",
        "    def __init__(self, units, activation='relu'):\n",
        "        super().__init__()\n",
        "        self.units = units\n",
        "        self.activation = tf.keras.activations.get(activation)\n",
        "\n",
        "    def build(self, input_shape):\n",
        "        self.w = self.add_weight(\n",
        "            shape=(input_shape[-1], self.units),\n",
        "            initializer='glorot_uniform',\n",
        "            trainable=True\n",
        "        )\n",
        "        self.b = self.add_weight(\n",
        "            shape=(self.units,),\n",
        "            initializer='zeros',\n",
        "            trainable=True\n",
        "        )\n",
        "\n",
        "    def call(self, inputs):\n",
        "        z = tf.matmul(inputs, 10*self.w) + self.b\n",
        "        if self.activation is not None:\n",
        "            return self.activation(z)\n",
        "        return z\n",
        "\n",
        "# --- Build model ---\n",
        "model = Sequential([\n",
        "    CustomDenseLayer(128, activation='relu'),  # hidden layer\n",
        "    CustomDenseLayer(64, activation='relu'),   # hidden layer\n",
        "    CustomDenseLayer(1, activation=None)       # output layer, linear\n",
        "])\n",
        "\n",
        "model.compile(optimizer='adam', loss='mse', metrics=['mae'])\n",
        "\n",
        "# --- Train model ---\n",
        "history = model.fit(X_train_scaled, y_train_scaled,\n",
        "                    batch_size=32, epochs=10, validation_split=0.2)\n",
        "\n",
        "# --- Predict and inverse scale ---\n",
        "y_pred_scaled = model.predict(X_test_scaled)\n",
        "y_pred = y_scaler.inverse_transform(y_pred_scaled)\n",
        "\n",
        "# --- Compare first few predictions ---\n",
        "for i in range(5):\n",
        "    print(f\"Predicted: {y_pred[i][0]:.2f}, Actual: {df_test['median_house_value'].iloc[i]:.2f}\")\n"
      ],
      "metadata": {
        "colab": {
          "base_uri": "https://localhost:8080/"
        },
        "id": "xYehoWL7h1g_",
        "outputId": "aca31eaf-fc20-49a8-8686-997e0b3874b5"
      },
      "execution_count": null,
      "outputs": [
        {
          "output_type": "stream",
          "name": "stdout",
          "text": [
            "Epoch 1/10\n",
            "\u001b[1m425/425\u001b[0m \u001b[32m━━━━━━━━━━━━━━━━━━━━\u001b[0m\u001b[37m\u001b[0m \u001b[1m3s\u001b[0m 2ms/step - loss: 2309.5847 - mae: 27.2049 - val_loss: 419.0938 - val_mae: 15.1607\n",
            "Epoch 2/10\n",
            "\u001b[1m425/425\u001b[0m \u001b[32m━━━━━━━━━━━━━━━━━━━━\u001b[0m\u001b[37m\u001b[0m \u001b[1m1s\u001b[0m 2ms/step - loss: 857.4775 - mae: 14.0765 - val_loss: 298.0049 - val_mae: 10.9534\n",
            "Epoch 3/10\n",
            "\u001b[1m425/425\u001b[0m \u001b[32m━━━━━━━━━━━━━━━━━━━━\u001b[0m\u001b[37m\u001b[0m \u001b[1m1s\u001b[0m 2ms/step - loss: 196.6356 - mae: 8.4203 - val_loss: 327.5056 - val_mae: 14.6031\n",
            "Epoch 4/10\n",
            "\u001b[1m425/425\u001b[0m \u001b[32m━━━━━━━━━━━━━━━━━━━━\u001b[0m\u001b[37m\u001b[0m \u001b[1m1s\u001b[0m 1ms/step - loss: 83.3268 - mae: 6.1522 - val_loss: 444.3892 - val_mae: 15.3980\n",
            "Epoch 5/10\n",
            "\u001b[1m425/425\u001b[0m \u001b[32m━━━━━━━━━━━━━━━━━━━━\u001b[0m\u001b[37m\u001b[0m \u001b[1m1s\u001b[0m 3ms/step - loss: 257.4885 - mae: 8.2240 - val_loss: 158.5037 - val_mae: 9.3717\n",
            "Epoch 6/10\n",
            "\u001b[1m425/425\u001b[0m \u001b[32m━━━━━━━━━━━━━━━━━━━━\u001b[0m\u001b[37m\u001b[0m \u001b[1m1s\u001b[0m 2ms/step - loss: 68.8442 - mae: 5.2555 - val_loss: 67.1756 - val_mae: 6.1099\n",
            "Epoch 7/10\n",
            "\u001b[1m425/425\u001b[0m \u001b[32m━━━━━━━━━━━━━━━━━━━━\u001b[0m\u001b[37m\u001b[0m \u001b[1m1s\u001b[0m 2ms/step - loss: 24.4856 - mae: 3.5213 - val_loss: 158.9187 - val_mae: 7.6754\n",
            "Epoch 8/10\n",
            "\u001b[1m425/425\u001b[0m \u001b[32m━━━━━━━━━━━━━━━━━━━━\u001b[0m\u001b[37m\u001b[0m \u001b[1m1s\u001b[0m 2ms/step - loss: 90.0632 - mae: 4.4286 - val_loss: 65.9736 - val_mae: 6.1109\n",
            "Epoch 9/10\n",
            "\u001b[1m425/425\u001b[0m \u001b[32m━━━━━━━━━━━━━━━━━━━━\u001b[0m\u001b[37m\u001b[0m \u001b[1m1s\u001b[0m 2ms/step - loss: 36.8031 - mae: 3.7107 - val_loss: 34.0935 - val_mae: 4.5650\n",
            "Epoch 10/10\n",
            "\u001b[1m425/425\u001b[0m \u001b[32m━━━━━━━━━━━━━━━━━━━━\u001b[0m\u001b[37m\u001b[0m \u001b[1m1s\u001b[0m 2ms/step - loss: 20.3674 - mae: 2.8039 - val_loss: 42.4613 - val_mae: 4.5894\n",
            "\u001b[1m94/94\u001b[0m \u001b[32m━━━━━━━━━━━━━━━━━━━━\u001b[0m\u001b[37m\u001b[0m \u001b[1m0s\u001b[0m 1ms/step  \n",
            "Predicted: 299594.97, Actual: 344700.00\n",
            "Predicted: 504601.06, Actual: 176500.00\n",
            "Predicted: 299138.16, Actual: 270500.00\n",
            "Predicted: 173433.19, Actual: 330000.00\n",
            "Predicted: 458013.88, Actual: 81700.00\n"
          ]
        }
      ]
    },
    {
      "cell_type": "markdown",
      "source": [
        "# disasterous\n",
        "![dis.webp](data:image/webp;base64,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)"
      ],
      "metadata": {
        "id": "4VmMv25TiVfU"
      }
    },
    {
      "cell_type": "code",
      "source": [],
      "metadata": {
        "id": "Em2LrUo_iMls"
      },
      "execution_count": null,
      "outputs": []
    },
    {
      "cell_type": "code",
      "source": [],
      "metadata": {
        "id": "w_PBACURh2k1"
      },
      "execution_count": null,
      "outputs": []
    },
    {
      "cell_type": "code",
      "source": [
        "# --- Custom Dense Layer ---\n",
        "class CustomDenseLayer(Layer):\n",
        "    def __init__(self, units, activation='relu'):\n",
        "        super().__init__()\n",
        "        self.units = units\n",
        "        self.activation = tf.keras.activations.get(activation)\n",
        "\n",
        "    def build(self, input_shape):\n",
        "        self.w = self.add_weight(\n",
        "            shape=(input_shape[-1], self.units),\n",
        "            initializer='glorot_uniform',\n",
        "            trainable=True\n",
        "        )\n",
        "        self.b = self.add_weight(\n",
        "            shape=(self.units,),\n",
        "            initializer='zeros',\n",
        "            trainable=True\n",
        "        )\n",
        "\n",
        "    def call(self, inputs):\n",
        "        z = tf.matmul(inputs, self.w) + self.b\n",
        "        if self.activation is not None:\n",
        "            return self.activation(z)\n",
        "        return z"
      ],
      "metadata": {
        "id": "4v7WTD2UVHe4"
      },
      "execution_count": null,
      "outputs": []
    },
    {
      "cell_type": "markdown",
      "source": [
        "2️⃣ Backpropagation (backward pass)\n",
        "\n",
        "You don’t see it in your code, but TensorFlow tracks all operations automatically (because of autodiff / GradientTape).\n",
        "\n",
        "During model.fit(...), TensorFlow computes:\n",
        "\n",
        "Forward pass (your call) to get predictions.\n",
        "\n",
        "Loss using loss=y_true - y_pred.\n",
        "\n",
        "Backward pass automatically: computes gradients of loss w.r.t w and b.\n",
        "\n",
        "Updates weights via the optimizer (Adam in your case)."
      ],
      "metadata": {
        "id": "Lx8U93kAgepU"
      }
    },
    {
      "cell_type": "code",
      "source": [],
      "metadata": {
        "id": "egjIh37igd0s"
      },
      "execution_count": null,
      "outputs": []
    },
    {
      "cell_type": "code",
      "source": [],
      "metadata": {
        "id": "PEfJdkW5gcMa"
      },
      "execution_count": null,
      "outputs": []
    },
    {
      "cell_type": "markdown",
      "source": [
        "# Finally! Lets start transformers"
      ],
      "metadata": {
        "id": "knveEQKboYvH"
      }
    },
    {
      "cell_type": "markdown",
      "source": [
        "# self attention components\n",
        "* enables each input word to attend to every other word\n",
        "* captures context and relationships\n",
        "\n",
        "# each word is represented by 3 vectors\n",
        "* Query\n",
        "* Key\n",
        "* Value\n",
        "\n",
        "# Attention score is dot product of Query and Key vectors\n",
        "* Query ⋅ Key\n",
        "\n",
        "\n",
        "###  Used to weight the value vectors\n"
      ],
      "metadata": {
        "id": "1JeVsdbnQCfF"
      }
    },
    {
      "cell_type": "code",
      "source": [],
      "metadata": {
        "id": "A8CFO-RBQJLm"
      },
      "execution_count": null,
      "outputs": []
    }
  ]
}